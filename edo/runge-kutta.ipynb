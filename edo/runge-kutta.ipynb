{
 "cells": [
  {
   "cell_type": "markdown",
   "id": "b853deff",
   "metadata": {},
   "source": [
    "🛠️ Initial Setup"
   ]
  },
  {
   "cell_type": "markdown",
   "id": "51258d1d",
   "metadata": {},
   "source": [
    "Importing libraries"
   ]
  },
  {
   "cell_type": "code",
   "execution_count": null,
   "id": "65919f14",
   "metadata": {},
   "outputs": [],
   "source": [
    "# Necessary imports and helper functions\n",
    "import numpy as np\n",
    "import matplotlib.pyplot as plt\n",
    "import pandas as pd\n",
    "from IPython.display import display"
   ]
  },
  {
   "cell_type": "markdown",
   "id": "e6b83179",
   "metadata": {},
   "source": [
    "Function"
   ]
  },
  {
   "cell_type": "code",
   "execution_count": null,
   "id": "51f4e87d",
   "metadata": {},
   "outputs": [],
   "source": [
    "# Example function (y' = x + y)\n",
    "def f(x, y):\n",
    "    return x + y"
   ]
  }
 ],
 "metadata": {
  "language_info": {
   "name": "python"
  }
 },
 "nbformat": 4,
 "nbformat_minor": 5
}
