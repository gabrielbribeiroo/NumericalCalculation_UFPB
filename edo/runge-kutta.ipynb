{
 "cells": [
  {
   "cell_type": "markdown",
   "id": "b853deff",
   "metadata": {},
   "source": [
    "🛠️ Initial Setup"
   ]
  },
  {
   "cell_type": "markdown",
   "id": "51258d1d",
   "metadata": {},
   "source": [
    "importing libraries"
   ]
  },
  {
   "cell_type": "code",
   "execution_count": null,
   "id": "65919f14",
   "metadata": {},
   "outputs": [],
   "source": [
    "# Necessary imports and helper functions\n",
    "import numpy as np\n",
    "import matplotlib.pyplot as plt\n",
    "import pandas as pd\n",
    "from IPython.display import display"
   ]
  },
  {
   "cell_type": "markdown",
   "id": "e6b83179",
   "metadata": {},
   "source": [
    "function"
   ]
  },
  {
   "cell_type": "code",
   "execution_count": null,
   "id": "51f4e87d",
   "metadata": {},
   "outputs": [],
   "source": [
    "# Example function (y' = x + y)\n",
    "def f(x, y):\n",
    "    return x + y"
   ]
  },
  {
   "cell_type": "markdown",
   "id": "013c325d",
   "metadata": {},
   "source": [
    "exact solution"
   ]
  },
  {
   "cell_type": "code",
   "execution_count": null,
   "id": "b30c2b4b",
   "metadata": {},
   "outputs": [],
   "source": [
    "# Known exact solution for the example y' = x + y, y(0)=1\n",
    "# y(x) = 2*exp(x) - x - 1\n",
    "def y_exact(x):\n",
    "    return 2*np.exp(x) - x - 1"
   ]
  }
 ],
 "metadata": {
  "language_info": {
   "name": "python"
  }
 },
 "nbformat": 4,
 "nbformat_minor": 5
}
