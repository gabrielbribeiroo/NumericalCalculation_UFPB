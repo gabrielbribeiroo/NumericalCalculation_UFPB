{
 "cells": [
  {
   "cell_type": "markdown",
   "id": "b853deff",
   "metadata": {},
   "source": [
    "🛠️ Initial Setup"
   ]
  },
  {
   "cell_type": "markdown",
   "id": "51258d1d",
   "metadata": {},
   "source": [
    "importing libraries"
   ]
  },
  {
   "cell_type": "code",
   "execution_count": null,
   "id": "65919f14",
   "metadata": {},
   "outputs": [],
   "source": [
    "# Necessary imports and helper functions\n",
    "import numpy as np\n",
    "import matplotlib.pyplot as plt\n",
    "import pandas as pd\n",
    "from IPython.display import display"
   ]
  },
  {
   "cell_type": "markdown",
   "id": "e6b83179",
   "metadata": {},
   "source": [
    "function"
   ]
  },
  {
   "cell_type": "code",
   "execution_count": null,
   "id": "51f4e87d",
   "metadata": {},
   "outputs": [],
   "source": [
    "# Example function (y' = x + y)\n",
    "def f(x, y):\n",
    "    return x + y"
   ]
  },
  {
   "cell_type": "markdown",
   "id": "013c325d",
   "metadata": {},
   "source": [
    "exact solution"
   ]
  },
  {
   "cell_type": "code",
   "execution_count": null,
   "id": "b30c2b4b",
   "metadata": {},
   "outputs": [],
   "source": [
    "# Known exact solution for the example y' = x + y, y(0)=1\n",
    "# y(x) = 2*exp(x) - x - 1\n",
    "def y_exact(x):\n",
    "    return 2*np.exp(x) - x - 1"
   ]
  },
  {
   "cell_type": "markdown",
   "id": "193ada4d",
   "metadata": {},
   "source": [
    "🚀 2nd Order Runge-Kutta Method (RK2)"
   ]
  },
  {
   "cell_type": "code",
   "execution_count": null,
   "id": "1aaf793e",
   "metadata": {},
   "outputs": [],
   "source": [
    "def runge_kutta_2(f, x0, y0, h, n, y_real=None):\n",
    "    \"\"\"\n",
    "    Implements the 2nd Order Runge-Kutta Method (RK2) for solving ODEs.\n",
    "\n",
    "    Parameters:\n",
    "    f: function\n",
    "        The function representing the ODE (dy/dx = f(x, y)).\n",
    "    x0: float\n",
    "        Initial value of x.\n",
    "    y0: float\n",
    "        Initial value of y.\n",
    "    h: float\n",
    "        Step size.\n",
    "    n: int\n",
    "        Number of steps.\n",
    "    y_real: function, optional\n",
    "        The exact solution of the ODE for comparison (default is None).\n",
    "\n",
    "    Returns:\n",
    "    xs: numpy array\n",
    "        Array of x values.\n",
    "    ys: numpy array\n",
    "        Array of y values.\n",
    "    \"\"\"\n",
    "    xs = [x0]  # List to store x values\n",
    "    ys = [y0]  # List to store y values\n",
    "    data = []  # List to store data for visualization\n",
    "\n",
    "    # Add initial values to the data table\n",
    "    if y_real:\n",
    "        yx = y_real(x0)  # Exact solution at x0\n",
    "        error = abs(yx - y0)  # Absolute error\n",
    "        data.append({'n': 0, 'xn': x0, 'y(xn)': yx, 'yn': y0, 'Absolute Error': error})\n",
    "    else:\n",
    "        data.append({'n': 0, 'xn': x0, 'y(xn)': None, 'yn': y0, 'Absolute Error': None})\n",
    "\n",
    "    # Perform RK2 iterations\n",
    "    for i in range(1, n+1):\n",
    "        k1 = f(x0, y0)  # Compute k1\n",
    "        k2 = f(x0 + h, y0 + h*k1)  # Compute k2\n",
    "        y0 = y0 + (h/2)*(k1 + k2)  # Update y using RK2 formula\n",
    "        x0 = x0 + h  # Update x\n",
    "\n",
    "        xs.append(x0)  # Append new x value\n",
    "        ys.append(y0)  # Append new y value\n",
    "\n",
    "        # Add current step data to the table\n",
    "        if y_real:\n",
    "            yx = y_real(x0)  # Exact solution at current x\n",
    "            error = abs(yx - y0)  # Absolute error\n",
    "            data.append({'n': i, 'xn': x0, 'y(xn)': yx, 'yn': y0, 'Absolute Error': error})\n",
    "        else:\n",
    "            data.append({'n': i, 'xn': x0, 'y(xn)': None, 'yn': y0, 'Absolute Error': None})\n",
    "\n",
    "    # Create a DataFrame for better visualization\n",
    "    df = pd.DataFrame(data)\n",
    "    display(df)\n",
    "\n",
    "    # Plot the results\n",
    "    plt.figure()\n",
    "    plt.plot(xs, ys, 'o-', label=\"RK2 Approximation\")  # Plot RK2 approximation\n",
    "    if y_real:\n",
    "        x_plot = np.linspace(xs[0], xs[-1], 100)  # Generate x values for exact solution\n",
    "        plt.plot(x_plot, y_real(x_plot), '--', label=\"Exact Solution\")  # Plot exact solution\n",
    "    plt.title('2nd Order Runge-Kutta Method')\n",
    "    plt.xlabel('x')\n",
    "    plt.ylabel('y')\n",
    "    plt.legend()\n",
    "    plt.grid(True)\n",
    "    plt.show()\n",
    "\n",
    "    return np.array(xs), np.array(ys)  # Return x and y values as numpy arrays"
   ]
  },
  {
   "cell_type": "markdown",
   "id": "eb315324",
   "metadata": {},
   "source": [
    "🚀 3rd Order Runge-Kutta Method (RK3)"
   ]
  },
  {
   "cell_type": "code",
   "execution_count": null,
   "id": "300e5469",
   "metadata": {},
   "outputs": [],
   "source": [
    "def runge_kutta_3(f, x0, y0, h, n, y_real=None):\n",
    "    \"\"\"\n",
    "    Implements the 3rd Order Runge-Kutta Method (RK3) for solving ODEs.\n",
    "\n",
    "    Parameters:\n",
    "    f: function\n",
    "        The function representing the ODE (dy/dx = f(x, y)).\n",
    "    x0: float\n",
    "        Initial value of x.\n",
    "    y0: float\n",
    "        Initial value of y.\n",
    "    h: float\n",
    "        Step size.\n",
    "    n: int\n",
    "        Number of steps.\n",
    "    y_real: function, optional\n",
    "        The exact solution of the ODE for comparison (default is None).\n",
    "\n",
    "    Returns:\n",
    "    xs: numpy array\n",
    "        Array of x values.\n",
    "    ys: numpy array\n",
    "        Array of y values.\n",
    "    \"\"\"\n",
    "    xs = [x0]  # List to store x values\n",
    "    ys = [y0]  # List to store y values\n",
    "    data = []  # List to store data for visualization\n",
    "\n",
    "    # Add initial values to the data table\n",
    "    if y_real:\n",
    "        yx = y_real(x0)  # Exact solution at x0\n",
    "        error = abs(yx - y0)  # Absolute error\n",
    "        data.append({'n': 0, 'xn': x0, 'y(xn)': yx, 'yn': y0, 'Absolute Error': error})\n",
    "    else:\n",
    "        data.append({'n': 0, 'xn': x0, 'y(xn)': None, 'yn': y0, 'Absolute Error': None})\n",
    "\n",
    "    # Perform RK3 iterations\n",
    "    for i in range(1, n+1):\n",
    "        k1 = f(x0, y0)  # Compute k1\n",
    "        k2 = f(x0 + h/2, y0 + (h/2)*k1)  # Compute k2\n",
    "        k3 = f(x0 + h, y0 - h*k1 + 2*h*k2)  # Compute k3\n",
    "        y0 = y0 + (h/6)*(k1 + 4*k2 + k3)  # Update y using RK3 formula\n",
    "        x0 = x0 + h  # Update x\n",
    "\n",
    "        xs.append(x0)  # Append new x value\n",
    "        ys.append(y0)  # Append new y value\n",
    "\n",
    "        # Add current step data to the table\n",
    "        if y_real:\n",
    "            yx = y_real(x0)  # Exact solution at current x\n",
    "            error = abs(yx - y0)  # Absolute error\n",
    "            data.append({'n': i, 'xn': x0, 'y(xn)': yx, 'yn': y0, 'Absolute Error': error})\n",
    "        else:\n",
    "            data.append({'n': i, 'xn': x0, 'y(xn)': None, 'yn': y0, 'Absolute Error': None})\n",
    "\n",
    "    # Create a DataFrame for better visualization\n",
    "    df = pd.DataFrame(data)\n",
    "    display(df)\n",
    "\n",
    "    # Plot the results\n",
    "    plt.figure()\n",
    "    plt.plot(xs, ys, 'o-', label=\"RK3 Approximation\")  # Plot RK3 approximation\n",
    "    if y_real:\n",
    "        x_plot = np.linspace(xs[0], xs[-1], 100)  # Generate x values for exact solution\n",
    "        plt.plot(x_plot, y_real(x_plot), '--', label=\"Exact Solution\")  # Plot exact solution\n",
    "    plt.title('3rd Order Runge-Kutta Method')\n",
    "    plt.xlabel('x')\n",
    "    plt.ylabel('y')\n",
    "    plt.legend()\n",
    "    plt.grid(True)\n",
    "    plt.show()\n",
    "\n",
    "    return np.array(xs), np.array(ys)  # Return x and y values as numpy arrays"
   ]
  }
 ],
 "metadata": {
  "language_info": {
   "name": "python"
  }
 },
 "nbformat": 4,
 "nbformat_minor": 5
}
