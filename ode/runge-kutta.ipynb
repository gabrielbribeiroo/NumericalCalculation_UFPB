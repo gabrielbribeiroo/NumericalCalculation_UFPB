{
 "cells": [
  {
   "cell_type": "markdown",
   "id": "b853deff",
   "metadata": {},
   "source": [
    "🛠️ Initial Setup"
   ]
  },
  {
   "cell_type": "markdown",
   "id": "51258d1d",
   "metadata": {},
   "source": [
    "importing libraries"
   ]
  },
  {
   "cell_type": "code",
   "execution_count": null,
   "id": "65919f14",
   "metadata": {},
   "outputs": [],
   "source": [
    "# Necessary imports and helper functions\n",
    "import numpy as np\n",
    "import matplotlib.pyplot as plt\n",
    "import pandas as pd\n",
    "from IPython.display import display"
   ]
  },
  {
   "cell_type": "markdown",
   "id": "eab20727",
   "metadata": {},
   "source": [
    "✍️ Modeling: SIR with Vaccination"
   ]
  },
  {
   "cell_type": "markdown",
   "id": "e6b83179",
   "metadata": {},
   "source": [
    "parameters and conditions of the function"
   ]
  },
  {
   "cell_type": "code",
   "execution_count": null,
   "id": "51f4e87d",
   "metadata": {},
   "outputs": [],
   "source": [
    "# model parameters\n",
    "N = 500_000  # total population\n",
    "beta = 0.28  # infection rate per contact\n",
    "gamma = 0.1  # recovery rate\n",
    "v = 0.001    # daily vaccination rate (e.g., 0.1% of the population vaccinated per day)\n",
    "\n",
    "# initial conditions\n",
    "S0 = N - 1\n",
    "I0 = 1\n",
    "R0 = 0"
   ]
  },
  {
   "cell_type": "markdown",
   "id": "013c325d",
   "metadata": {},
   "source": [
    "system"
   ]
  },
  {
   "cell_type": "code",
   "execution_count": null,
   "id": "b30c2b4b",
   "metadata": {},
   "outputs": [],
   "source": [
    "# SIR system with vaccination\n",
    "def sir_v_model(t, y):\n",
    "    S, I, R = y\n",
    "    dSdt = -beta * S * I / N - v * S\n",
    "    dIdt = beta * S * I / N - gamma * I\n",
    "    dRdt = gamma * I + v * S\n",
    "    return np.array([dSdt, dIdt, dRdt])"
   ]
  },
  {
   "cell_type": "markdown",
   "id": "fc3d6d6b",
   "metadata": {},
   "source": [
    "simulation"
   ]
  },
  {
   "cell_type": "code",
   "execution_count": null,
   "id": "0667b760",
   "metadata": {},
   "outputs": [],
   "source": [
    "# Simulation conditions\n",
    "t0 = 0       # initial time (days)\n",
    "h = 1        # step size (1 day)\n",
    "n_steps = 160 # number of days to simulate"
   ]
  },
  {
   "cell_type": "markdown",
   "id": "193ada4d",
   "metadata": {},
   "source": [
    "🚀 2nd Order Runge-Kutta Method (RK2)"
   ]
  },
  {
   "cell_type": "code",
   "execution_count": null,
   "id": "1aaf793e",
   "metadata": {},
   "outputs": [],
   "source": [
    "def runge_kutta_2_system(f, t0, y0, h, n_steps):\n",
    "    \"\"\"\n",
    "    Implements the 2nd Order Runge-Kutta Method (RK2) for solving systems of ODEs.\n",
    "\n",
    "    Parameters:\n",
    "    f: function\n",
    "        The function representing the system of ODEs (dy/dt = f(t, y)).\n",
    "    t0: float\n",
    "        Initial value of t (time).\n",
    "    y0: numpy array\n",
    "        Initial values of the system variables [S, I, R].\n",
    "    h: float\n",
    "        Step size.\n",
    "    n_steps: int\n",
    "        Number of steps to simulate.\n",
    "\n",
    "    Returns:\n",
    "    ts: numpy array\n",
    "        Array of time values.\n",
    "    ys: numpy array\n",
    "        Array of system variable values at each time step.\n",
    "    \"\"\"\n",
    "    ts = [t0]  # List to store time values\n",
    "    ys = [y0]  # List to store system variable values\n",
    "    # Initialize a list to store data for visualization\n",
    "    dados = [{'n': 0, 't': t0, 'S': y0[0], 'I': y0[1], 'R': y0[2]}]\n",
    "\n",
    "    # Perform RK2 iterations\n",
    "    for i in range(1, n_steps+1):\n",
    "        k1 = f(t0, y0)  # Compute k1\n",
    "        k2 = f(t0 + h, y0 + h*k1)  # Compute k2\n",
    "        y0 = y0 + (h/2)*(k1 + k2)  # Update y using RK2 formula\n",
    "        t0 = t0 + h  # Update time\n",
    "\n",
    "        ts.append(t0)  # Append new time value\n",
    "        ys.append(y0)  # Append new system variable values\n",
    "        # Add current step data to the table\n",
    "        dados.append({'n': i, 't': t0, 'S': y0[0], 'I': y0[1], 'R': y0[2]})\n",
    "\n",
    "    # Create a DataFrame for better visualization\n",
    "    df = pd.DataFrame(dados)\n",
    "    display(df)  # Display the DataFrame\n",
    "\n",
    "    return np.array(ts), np.array(ys)  # Return time and system variable values as numpy arrays"
   ]
  },
  {
   "cell_type": "markdown",
   "id": "eb315324",
   "metadata": {},
   "source": [
    "🚀 3rd Order Runge-Kutta Method (RK3)"
   ]
  },
  {
   "cell_type": "code",
   "execution_count": null,
   "id": "300e5469",
   "metadata": {},
   "outputs": [],
   "source": [
    "def runge_kutta_3_system(f, t0, y0, h, n_steps):\n",
    "    \"\"\"\n",
    "    Implements the 3rd Order Runge-Kutta Method (RK3) for solving systems of ODEs.\n",
    "\n",
    "    Parameters:\n",
    "    f: function\n",
    "        The function representing the system of ODEs (dy/dt = f(t, y)).\n",
    "    t0: float\n",
    "        Initial value of t (time).\n",
    "    y0: numpy array\n",
    "        Initial values of the system variables [S, I, R].\n",
    "    h: float\n",
    "        Step size.\n",
    "    n_steps: int\n",
    "        Number of steps to simulate.\n",
    "\n",
    "    Returns:\n",
    "    ts: numpy array\n",
    "        Array of time values.\n",
    "    ys: numpy array\n",
    "        Array of system variable values at each time step.\n",
    "    \"\"\"\n",
    "    ts = [t0]  # List to store time values\n",
    "    ys = [y0]  # List to store system variable values\n",
    "    dados = [{'n': 0, 't': t0, 'S': y0[0], 'I': y0[1], 'R': y0[2]}]  # Data for visualization\n",
    "\n",
    "    # Perform RK3 iterations\n",
    "    for i in range(1, n_steps+1):\n",
    "        k1 = f(t0, y0)  # Compute k1\n",
    "        k2 = f(t0 + h/2, y0 + h/2*k1)  # Compute k2\n",
    "        k3 = f(t0 + h, y0 - h*k1 + 2*h*k2)  # Compute k3\n",
    "        y0 = y0 + (h/6)*(k1 + 4*k2 + k3)  # Update y using RK3 formula\n",
    "        t0 = t0 + h  # Update time\n",
    "\n",
    "        ts.append(t0)  # Append new time value\n",
    "        ys.append(y0)  # Append new system variable values\n",
    "        dados.append({'n': i, 't': t0, 'S': y0[0], 'I': y0[1], 'R': y0[2]})  # Add current step data\n",
    "\n",
    "    # Create a DataFrame for better visualization\n",
    "    df = pd.DataFrame(dados)\n",
    "    display(df)  # Display the DataFrame\n",
    "\n",
    "    return np.array(ts), np.array(ys)  # Return time and system variable values as numpy arrays"
   ]
  },
  {
   "cell_type": "markdown",
   "id": "21c36304",
   "metadata": {},
   "source": [
    "🚀 4. 4th Order Runge-Kutta Method (RK4)"
   ]
  },
  {
   "cell_type": "code",
   "execution_count": null,
   "id": "53f1dbee",
   "metadata": {},
   "outputs": [],
   "source": [
    "def runge_kutta_4_system(f, t0, y0, h, n_steps):\n",
    "    \"\"\"\n",
    "    Implements the 4th Order Runge-Kutta Method (RK4) for solving systems of ODEs.\n",
    "\n",
    "    Parameters:\n",
    "    f: function\n",
    "        The function representing the system of ODEs (dy/dt = f(t, y)).\n",
    "    t0: float\n",
    "        Initial value of t (time).\n",
    "    y0: numpy array\n",
    "        Initial values of the system variables [S, I, R].\n",
    "    h: float\n",
    "        Step size.\n",
    "    n_steps: int\n",
    "        Number of steps to simulate.\n",
    "\n",
    "    Returns:\n",
    "    ts: numpy array\n",
    "        Array of time values.\n",
    "    ys: numpy array\n",
    "        Array of system variable values at each time step.\n",
    "    \"\"\"\n",
    "    ts = [t0]  # List to store time values\n",
    "    ys = [y0]  # List to store system variable values\n",
    "    dados = [{'n': 0, 't': t0, 'S': y0[0], 'I': y0[1], 'R': y0[2]}]  # Data for visualization\n",
    "\n",
    "    # Perform RK4 iterations\n",
    "    for i in range(1, n_steps+1):\n",
    "        k1 = f(t0, y0)  # Compute k1\n",
    "        k2 = f(t0 + h/2, y0 + h/2*k1)  # Compute k2\n",
    "        k3 = f(t0 + h/2, y0 + h/2*k2)  # Compute k3\n",
    "        k4 = f(t0 + h, y0 + h*k3)  # Compute k4\n",
    "        y0 = y0 + (h/6)*(k1 + 2*k2 + 2*k3 + k4)  # Update y using RK4 formula\n",
    "        t0 = t0 + h  # Update time\n",
    "\n",
    "        ts.append(t0)  # Append new time value\n",
    "        ys.append(y0)  # Append new system variable values\n",
    "        dados.append({'n': i, 't': t0, 'S': y0[0], 'I': y0[1], 'R': y0[2]})  # Add current step data\n",
    "\n",
    "    # Create a DataFrame for better visualization\n",
    "    df = pd.DataFrame(dados)\n",
    "    display(df)  # Display the DataFrame\n",
    "\n",
    "    return np.array(ts), np.array(ys)  # Return time and system variable values as numpy arrays"
   ]
  },
  {
   "cell_type": "markdown",
   "id": "86d6aa3b",
   "metadata": {},
   "source": [
    "🧪 5. Running the Test"
   ]
  },
  {
   "cell_type": "markdown",
   "id": "8b0e8e91",
   "metadata": {},
   "source": [
    "RK2 Simulation"
   ]
  },
  {
   "cell_type": "code",
   "execution_count": null,
   "id": "201c4444",
   "metadata": {},
   "outputs": [],
   "source": [
    "print(\"===== Runge-Kutta 2nd Order =====\")\n",
    "ts2, ys2 = runge_kutta_2_system(sir_v_model, t0, np.array([S0, I0, R0]), h, n_steps)\n",
    "\n",
    "plt.figure(figsize=(10,6))\n",
    "plt.plot(ts2, ys2[:,0], label='Susceptible')\n",
    "plt.plot(ts2, ys2[:,1], label='Infected')\n",
    "plt.plot(ts2, ys2[:,2], label='Recovered')\n",
    "plt.title('SIR Model with Vaccination - Runge-Kutta 2nd Order')\n",
    "plt.xlabel('Time (days)')\n",
    "plt.ylabel('Number of people')\n",
    "plt.legend()\n",
    "plt.grid(True)\n",
    "plt.show()"
   ]
  },
  {
   "cell_type": "markdown",
   "id": "54147f34",
   "metadata": {},
   "source": [
    "RK3 Simulation"
   ]
  },
  {
   "cell_type": "code",
   "execution_count": null,
   "id": "88fcd5c1",
   "metadata": {},
   "outputs": [],
   "source": [
    "print(\"===== Runge-Kutta 3rd Order =====\")\n",
    "ts3, ys3 = runge_kutta_3_system(sir_v_model, t0, np.array([S0, I0, R0]), h, n_steps)\n",
    "\n",
    "plt.figure(figsize=(10,6))\n",
    "plt.plot(ts3, ys3[:,0], label='Susceptible')\n",
    "plt.plot(ts3, ys3[:,1], label='Infected')\n",
    "plt.plot(ts3, ys3[:,2], label='Recovered')\n",
    "plt.title('SIR Model with Vaccination - Runge-Kutta 3rd Order')\n",
    "plt.xlabel('Time (days)')\n",
    "plt.ylabel('Number of people')\n",
    "plt.legend()\n",
    "plt.grid(True)\n",
    "plt.show()"
   ]
  },
  {
   "cell_type": "markdown",
   "id": "4515324c",
   "metadata": {},
   "source": [
    "RK4 Simulation"
   ]
  },
  {
   "cell_type": "code",
   "execution_count": null,
   "id": "f8dec397",
   "metadata": {},
   "outputs": [],
   "source": [
    "print(\"===== Runge-Kutta 4th Order =====\")\n",
    "ts4, ys4 = runge_kutta_4_system(sir_v_model, t0, np.array([S0, I0, R0]), h, n_steps)\n",
    "\n",
    "plt.figure(figsize=(10,6))\n",
    "plt.plot(ts4, ys4[:,0], label='Susceptible')\n",
    "plt.plot(ts4, ys4[:,1], label='Infected')\n",
    "plt.plot(ts4, ys4[:,2], label='Recovered')\n",
    "plt.title('SIR Model with Vaccination - Runge-Kutta 4th Order')\n",
    "plt.xlabel('Time (days)')\n",
    "plt.ylabel('Number of people')\n",
    "plt.legend()\n",
    "plt.grid(True)\n",
    "plt.show()"
   ]
  },
  {
   "cell_type": "markdown",
   "id": "0fbf7560",
   "metadata": {},
   "source": [
    "❌ Total Error Calculation"
   ]
  },
  {
   "cell_type": "markdown",
   "id": "ab0a388e",
   "metadata": {},
   "source": [
    "Function"
   ]
  },
  {
   "cell_type": "code",
   "execution_count": null,
   "id": "d4a9bf91",
   "metadata": {},
   "outputs": [],
   "source": [
    "def calculate_error(ys_ref, ys_approx):\n",
    "    error = np.abs(ys_ref - ys_approx)\n",
    "    mean_error = np.mean(error, axis=0)\n",
    "    return mean_error"
   ]
  },
  {
   "cell_type": "markdown",
   "id": "7422e8c8",
   "metadata": {},
   "source": [
    "Error calculation"
   ]
  },
  {
   "cell_type": "code",
   "execution_count": null,
   "id": "357c0a64",
   "metadata": {},
   "outputs": [],
   "source": [
    "error_rk2 = calculate_error(ys4, ys2)\n",
    "error_rk3 = calculate_error(ys4, ys3)"
   ]
  },
  {
   "cell_type": "markdown",
   "id": "035a88d6",
   "metadata": {},
   "source": [
    "Average Error"
   ]
  },
  {
   "cell_type": "code",
   "execution_count": null,
   "id": "210d7782",
   "metadata": {},
   "outputs": [],
   "source": [
    "# Display\n",
    "print(\"\\n===== Mean Absolute Errors =====\")\n",
    "print(f\"Error RK2 vs RK4: S = {error_rk2[0]:.2f}, I = {error_rk2[1]:.2f}, R = {error_rk2[2]:.2f}\")\n",
    "print(f\"Error RK3 vs RK4: S = {error_rk3[0]:.2f}, I = {error_rk3[1]:.2f}, R = {error_rk3[2]:.2f}\")"
   ]
  },
  {
   "cell_type": "markdown",
   "id": "18a08f97",
   "metadata": {},
   "source": [
    "Comparison"
   ]
  },
  {
   "cell_type": "code",
   "execution_count": null,
   "id": "b2db1b29",
   "metadata": {},
   "outputs": [],
   "source": [
    "# Graphical comparison of the methods\n",
    "plt.figure(figsize=(12,7))\n",
    "\n",
    "# Infected\n",
    "plt.plot(ts2, ys2[:,1], '--', label='RK2 - Infected', alpha=0.7)\n",
    "plt.plot(ts3, ys3[:,1], '-.', label='RK3 - Infected', alpha=0.7)\n",
    "plt.plot(ts4, ys4[:,1], '-', label='RK4 - Infected (Reference)', linewidth=2)\n",
    "\n",
    "plt.title('Comparison of Runge-Kutta Methods - Infected')\n",
    "plt.xlabel('Time (days)')\n",
    "plt.ylabel('Number of Infected')\n",
    "plt.legend()\n",
    "plt.grid(True)\n",
    "plt.show()"
   ]
  }
 ],
 "metadata": {
  "language_info": {
   "name": "python"
  }
 },
 "nbformat": 4,
 "nbformat_minor": 5
}
