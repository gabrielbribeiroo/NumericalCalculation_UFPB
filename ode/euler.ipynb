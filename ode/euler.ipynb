{
 "cells": [
  {
   "cell_type": "markdown",
   "id": "9a2a7c60",
   "metadata": {},
   "source": [
    "🛠️ Initial Setup"
   ]
  },
  {
   "cell_type": "markdown",
   "id": "023db016",
   "metadata": {},
   "source": [
    "importing libraries"
   ]
  },
  {
   "cell_type": "code",
   "execution_count": null,
   "id": "6e1eddb1",
   "metadata": {},
   "outputs": [],
   "source": [
    "# Necessary imports and helper functions\n",
    "import numpy as np\n",
    "import pandas as pd\n",
    "import matplotlib.pyplot as plt"
   ]
  }
 ],
 "metadata": {
  "language_info": {
   "name": "python"
  }
 },
 "nbformat": 4,
 "nbformat_minor": 5
}
