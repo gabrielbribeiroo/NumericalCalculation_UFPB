{
 "cells": [
  {
   "cell_type": "markdown",
   "id": "9a2a7c60",
   "metadata": {},
   "source": [
    "🛠️ Initial Setup"
   ]
  },
  {
   "cell_type": "markdown",
   "id": "023db016",
   "metadata": {},
   "source": [
    "importing libraries"
   ]
  },
  {
   "cell_type": "code",
   "execution_count": null,
   "id": "6e1eddb1",
   "metadata": {},
   "outputs": [],
   "source": [
    "# Necessary imports and helper functions\n",
    "import numpy as np\n",
    "import pandas as pd\n",
    "import matplotlib.pyplot as plt"
   ]
  },
  {
   "cell_type": "markdown",
   "id": "2cf82359",
   "metadata": {},
   "source": [
    "function"
   ]
  },
  {
   "cell_type": "code",
   "execution_count": null,
   "id": "e7b11a01",
   "metadata": {},
   "outputs": [],
   "source": [
    "def f(t, d):\n",
    "    return (120 * np.exp(-0.4 * t)) - (0.2 * d)"
   ]
  },
  {
   "cell_type": "markdown",
   "id": "9d19d4a2",
   "metadata": {},
   "source": [
    "exact solution"
   ]
  },
  {
   "cell_type": "code",
   "execution_count": null,
   "id": "b7c9c3e6",
   "metadata": {},
   "outputs": [],
   "source": [
    "def d_exata(t):\n",
    "    return (-600 * np.exp(-0.4 * t)) + (607.6 * np.exp(-0.2 * t))"
   ]
  },
  {
   "cell_type": "markdown",
   "id": "7ae1e264",
   "metadata": {},
   "source": [
    "🚀 Euler Method Function"
   ]
  },
  {
   "cell_type": "code",
   "execution_count": null,
   "id": "fdd9b89e",
   "metadata": {},
   "outputs": [],
   "source": [
    "def euler_method(f, t0, d0, h, n_steps):\n",
    "    \"\"\"\n",
    "    Implements the Euler method for solving ordinary differential equations (ODEs).\n",
    "\n",
    "    Parameters:\n",
    "    f (function): The function representing the ODE (dy/dt = f(t, y)).\n",
    "    t0 (float): The initial value of the independent variable (time).\n",
    "    d0 (float): The initial value of the dependent variable.\n",
    "    h (float): The step size.\n",
    "    n_steps (int): The number of steps to perform.\n",
    "\n",
    "    Returns:\n",
    "    tuple: Two numpy arrays containing the values of the independent variable (t_values)\n",
    "           and the dependent variable (d_values) at each step.\n",
    "    \"\"\"\n",
    "\n",
    "    # Initialize lists to store the values of t and d\n",
    "    t_values = [t0]\n",
    "    d_values = [d0]\n",
    "\n",
    "    # Perform the Euler method for the specified number of steps\n",
    "    for _ in range(n_steps):\n",
    "        # Calculate the next value of d using the Euler formula\n",
    "        d_next = d_values[-1] + h * f(t_values[-1], d_values[-1])\n",
    "        # Update the values of t and d\n",
    "        t_values.append(t_values[-1] + h)\n",
    "        d_values.append(d_next)\n",
    "\n",
    "    # Convert the lists to numpy arrays and return them\n",
    "    return np.array(t_values), np.array(d_values)"
   ]
  }
 ],
 "metadata": {
  "language_info": {
   "name": "python"
  }
 },
 "nbformat": 4,
 "nbformat_minor": 5
}
