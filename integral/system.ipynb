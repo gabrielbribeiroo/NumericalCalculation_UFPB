{
 "cells": [
  {
   "cell_type": "markdown",
   "metadata": {},
   "source": [
    "LINEAR SYSTEMS"
   ]
  },
  {
   "cell_type": "code",
   "execution_count": null,
   "metadata": {},
   "outputs": [],
   "source": [
    "import numpy as np"
   ]
  },
  {
   "cell_type": "code",
   "execution_count": null,
   "metadata": {},
   "outputs": [],
   "source": [
    "from numpy import linalg"
   ]
  },
  {
   "cell_type": "code",
   "execution_count": null,
   "metadata": {},
   "outputs": [],
   "source": [
    "import matplotlib.pyplot as plt"
   ]
  },
  {
   "cell_type": "code",
   "execution_count": null,
   "metadata": {},
   "outputs": [],
   "source": [
    "import pandas as pd"
   ]
  },
  {
   "cell_type": "code",
   "execution_count": null,
   "metadata": {},
   "outputs": [],
   "source": [
    "import sympy as sp"
   ]
  },
  {
   "cell_type": "code",
   "execution_count": null,
   "metadata": {},
   "outputs": [],
   "source": [
    "def sassenfeld(A):\n",
    "    \"\"\"\n",
    "    Function to check the convergence condition of a system using the Sassenfeld criterion.\n",
    "    The function returns True if the system converges and False otherwise.\n",
    "    \"\"\"\n",
    "    n = np.shape(A)[0]  # Get the number of rows (or columns) of the matrix A\n",
    "    B = np.zeros(n)  # Initialize the B vector with zeros\n",
    "\n",
    "    # Initialize the first value of B\n",
    "    B[0] = np.sum(np.abs(A[0])) - np.abs(A[0][0])\n",
    "\n",
    "    # Calculate the values of the B vector for each row\n",
    "    for i in range(1, n):\n",
    "        a = 0\n",
    "        for j in range(0, n):\n",
    "            # Check if i != j and a < j\n",
    "            if i != j and a < j:\n",
    "                B[i] += abs(A[i][j]) * B[a]  # Accumulate the product of the coefficients\n",
    "            elif i != j:\n",
    "                B[i] += abs(A[i][j])  # Accumulate the absolute values of the coefficients\n",
    "\n",
    "    # Get the maximum value of B\n",
    "    max_x = max(B)\n",
    "    \n",
    "    return max_x < 1  # Return True if the sum is less than 1 (convergence), otherwise return False\n"
   ]
  },
  {
   "cell_type": "code",
   "execution_count": null,
   "metadata": {},
   "outputs": [],
   "source": [
    "def converge(A):\n",
    "    \"\"\"\n",
    "    Function that checks if the matrix A is diagonally dominant.\n",
    "    Returns False if the matrix is not diagonally dominant, otherwise returns True.\n",
    "    \"\"\"\n",
    "    n = np.shape(A)[0]  # Get the number of rows (or columns) of the matrix A\n",
    "\n",
    "    for i in range(0, n):\n",
    "        sum = 0\n",
    "        # Sum the elements outside the diagonal\n",
    "        for j in range(0, n):\n",
    "            if i != j:\n",
    "                sum += A[i][j]\n",
    "        # Check if the diagonal value is greater than the sum of the values outside it\n",
    "        if abs(A[i][i]) < sum:\n",
    "            return False  # If the matrix is not diagonally dominant, return False\n",
    "\n",
    "    return True  # If it is diagonally dominant, return True"
   ]
  },
  {
   "cell_type": "code",
   "execution_count": null,
   "metadata": {},
   "outputs": [],
   "source": [
    "def jacobi(A, b, x0, tol, N):\n",
    "    \"\"\"\n",
    "    Function that solves a linear system Ax = b using the Jacobi method.\n",
    "    The function returns the solution x and the iteration points generated during the process.\n",
    "    The function also checks convergence using the Sassenfeld and diagonally dominant methods.\n",
    "    \"\"\"\n",
    "\n",
    "    n = np.shape(A)[0]  # Gets the number of unknowns (size of the solution vector)\n",
    "    x = np.zeros(n)  # Initializes the solution vector x with zeros\n",
    "    it = 0  # Initializes the iteration counter\n",
    "    iteration_points = []  # List to store the points generated at each iteration\n",
    "\n",
    "    # Starts the Jacobi method iterations\n",
    "    while it < N:\n",
    "        it += 1  # Increments the number of iterations\n",
    "\n",
    "        # Performs the Jacobi iteration\n",
    "        for i in range(0, n):\n",
    "            x[i] = b[i]  # Starts with the value of b[i]\n",
    "            for j in range(0, n):\n",
    "                if i != j:\n",
    "                    x[i] -= A[i, j] * x0[j]  # Subtracts the product of the coefficients\n",
    "            x[i] /= A[i, i]  # Divides by the diagonal of A to isolate x[i]\n",
    "\n",
    "        # Stores the point generated in this iteration\n",
    "        iteration_points.append(np.copy(x))  # Adds the solution of the iteration to the list\n",
    "\n",
    "        # Checks the tolerance: if the difference between x and x0 is less than tol, it converged\n",
    "        if np.linalg.norm(x - x0, np.inf) < tol:\n",
    "            return x, iteration_points  # Returns the solution and the iteration points\n",
    "\n",
    "        # Prepares for the next iteration by updating x0 with the current solution\n",
    "        x0 = np.copy(x)\n",
    "\n",
    "    return x, iteration_points  # Returns the solution after the maximum number of iterations\n"
   ]
  },
  {
   "cell_type": "code",
   "execution_count": null,
   "metadata": {},
   "outputs": [],
   "source": [
    "def gauss_seidel(A, b, x0, tol, N):\n",
    "    # Get the number of rows (or columns) of the matrix A\n",
    "    n = len(A)\n",
    "    # Initialize the solution vector with the initial guess\n",
    "    x = np.copy(x0)\n",
    "    # List to store the points of each iteration\n",
    "    iteration_points = []\n",
    "    \n",
    "    # Iterate up to the maximum number of iterations\n",
    "    for it in range(N):\n",
    "        # Store the previous solution for comparison\n",
    "        x_old = np.copy(x)\n",
    "        \n",
    "        # Perform the Gauss-Seidel iteration\n",
    "        for i in range(n):\n",
    "            # Start with the corresponding value from vector b\n",
    "            sum_ = b[i]\n",
    "            for j in range(n):\n",
    "                if i != j:  # Exclude the diagonal element\n",
    "                    sum_ -= A[i, j] * x[j]  # Subtract the product of A[i, j] and the current solution\n",
    "            x[i] = sum_ / A[i, i]  # Divide by the diagonal element\n",
    "        \n",
    "        # Store the current solution in the iteration points list\n",
    "        iteration_points.append(np.copy(x))\n",
    "        \n",
    "        # Check if the tolerance condition is satisfied\n",
    "        if np.linalg.norm(x - x_old, np.inf) < tol:\n",
    "            return x, iteration_points  # Return the solution and iteration points if the tolerance is met\n",
    "    \n",
    "    # Return the solution and iteration points after the maximum number of iterations\n",
    "    return x, iteration_points"
   ]
  },
  {
   "cell_type": "code",
   "execution_count": null,
   "metadata": {},
   "outputs": [],
   "source": [
    "def calculate_errors(A, b, x0, tol, N):\n",
    "    # Compute the exact solution of the system\n",
    "    x_exact = np.linalg.solve(A, b)\n",
    "    \n",
    "    # Solve the system using the Jacobi method and get the iteration points\n",
    "    x_jacobi, jacobi_points = jacobi(A, b, x0, tol, N)\n",
    "    \n",
    "    # Solve the system using the Gauss-Seidel method and get the iteration points\n",
    "    x_gauss, gauss_points = gauss_seidel(A, b, x0, tol, N)\n",
    "    \n",
    "    # Initialize a table to store the iteration number and errors\n",
    "    table = []\n",
    "    \n",
    "    # Iterate through the points of both methods (up to the minimum number of iterations)\n",
    "    for i in range(min(len(jacobi_points), len(gauss_points))):\n",
    "        # Compute the error for the Jacobi method at the current iteration\n",
    "        jacobi_error = np.linalg.norm(jacobi_points[i] - x_exact, np.inf)\n",
    "        \n",
    "        # Compute the error for the Gauss-Seidel method at the current iteration\n",
    "        gauss_error = np.linalg.norm(gauss_points[i] - x_exact, np.inf)\n",
    "        \n",
    "        # Append the iteration number and errors to the table\n",
    "        table.append([i + 1, jacobi_error, gauss_error])\n",
    "    \n",
    "    # Create a DataFrame to display the errors in a tabular format\n",
    "    df = pd.DataFrame(table, columns=[\"Iteration\", \"Jacobi Error\", \"Gauss-Seidel Error\"])\n",
    "    return df"
   ]
  },
  {
   "cell_type": "code",
   "execution_count": null,
   "metadata": {},
   "outputs": [],
   "source": [
    "def main():\n",
    "    # Define the system of equations: Ax = b\n",
    "    A = np.array([[80, 0, 30, 10], [0, 80, 10, 10], [16, 20, 60, 72], [4, 0, 0, 8]], dtype=float)  # Coefficient matrix\n",
    "    b = np.array([40, 27, 31, 2], dtype=float)  # Independent terms vector\n",
    "    x0 = np.array([0.5, 0.2, 0.2, 0], dtype=float)  # Initial guess for the solutions\n",
    "    tol = 0.000001  # Tolerance for the convergence of the Jacobi method\n",
    "    N = 100\n",
    "\n",
    "    solution = jacobi(A, b, x0, tol, N)\n",
    "    print(\"Solution found:\", solution)\n",
    "\n",
    "# Run the program\n",
    "if __name__ == \"__main__\":\n",
    "    main()"
   ]
  }
 ],
 "metadata": {
  "language_info": {
   "name": "python"
  }
 },
 "nbformat": 4,
 "nbformat_minor": 2
}
