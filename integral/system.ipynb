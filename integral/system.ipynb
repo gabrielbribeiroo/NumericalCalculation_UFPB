{
 "cells": [
  {
   "cell_type": "markdown",
   "metadata": {},
   "source": [
    "LINEAR SYSTEMS"
   ]
  },
  {
   "cell_type": "code",
   "execution_count": null,
   "metadata": {},
   "outputs": [],
   "source": [
    "import numpy as np"
   ]
  },
  {
   "cell_type": "code",
   "execution_count": null,
   "metadata": {},
   "outputs": [],
   "source": [
    "from numpy import linalg"
   ]
  },
  {
   "cell_type": "code",
   "execution_count": null,
   "metadata": {},
   "outputs": [],
   "source": [
    "import matplotlib.pyplot as plt"
   ]
  },
  {
   "cell_type": "code",
   "execution_count": null,
   "metadata": {},
   "outputs": [],
   "source": [
    "import pandas as pd"
   ]
  },
  {
   "cell_type": "code",
   "execution_count": null,
   "metadata": {},
   "outputs": [],
   "source": [
    "import sympy as sp"
   ]
  },
  {
   "cell_type": "code",
   "execution_count": null,
   "metadata": {},
   "outputs": [],
   "source": [
    "def sanssenfeld(A):\n",
    "    # Get the number of rows (or columns) of the matrix A\n",
    "    n = np.shape(A)[0]\n",
    "    \n",
    "    # Initialize an array B with zeros, of size n\n",
    "    B = np.zeros(n)\n",
    "\n",
    "    # Initialize the first value of B\n",
    "    B[0] = np.sum(np.abs(A[0])) - np.abs(A[0][0])\n",
    "\n",
    "    # Iterate through the rows of the matrix starting from the second row\n",
    "    for i in range(1, n):\n",
    "        a = 0  # Initialize a variable to track the index\n",
    "        for j in range(n):  # Iterate through the columns\n",
    "            if i != j and a < j:  # If not on the diagonal and a < j\n",
    "                B[i] += abs(A[i][j]) * B[a]  # Update B[i] using B[a]\n",
    "            elif i != j:  # If not on the diagonal\n",
    "                B[i] += abs(A[i][j])  # Update B[i] directly\n",
    "\n",
    "    # Get the maximum value in the array B\n",
    "    max_x = max(B)\n",
    "    print(\"Maximum of Sanssenfeld:\", max_x)\n",
    "    \n",
    "    # Return whether the maximum value is less than 1\n",
    "    return max_x < 1"
   ]
  }
 ],
 "metadata": {
  "language_info": {
   "name": "python"
  }
 },
 "nbformat": 4,
 "nbformat_minor": 2
}
