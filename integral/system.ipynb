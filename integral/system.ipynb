{
 "cells": [
  {
   "cell_type": "markdown",
   "metadata": {},
   "source": [
    "LINEAR SYSTEMS"
   ]
  },
  {
   "cell_type": "code",
   "execution_count": null,
   "metadata": {},
   "outputs": [],
   "source": [
    "import numpy as np"
   ]
  },
  {
   "cell_type": "code",
   "execution_count": null,
   "metadata": {},
   "outputs": [],
   "source": [
    "from numpy import linalg"
   ]
  },
  {
   "cell_type": "code",
   "execution_count": null,
   "metadata": {},
   "outputs": [],
   "source": [
    "import matplotlib.pyplot as plt"
   ]
  },
  {
   "cell_type": "code",
   "execution_count": null,
   "metadata": {},
   "outputs": [],
   "source": [
    "import pandas as pd"
   ]
  },
  {
   "cell_type": "code",
   "execution_count": null,
   "metadata": {},
   "outputs": [],
   "source": [
    "import sympy as sp"
   ]
  },
  {
   "cell_type": "code",
   "execution_count": null,
   "metadata": {},
   "outputs": [],
   "source": [
    "def sanssenfeld(A):\n",
    "    # Get the number of rows (or columns) of the matrix A\n",
    "    n = np.shape(A)[0]\n",
    "    \n",
    "    # Initialize an array B with zeros, of size n\n",
    "    B = np.zeros(n)\n",
    "\n",
    "    # Initialize the first value of B\n",
    "    B[0] = np.sum(np.abs(A[0])) - np.abs(A[0][0])\n",
    "\n",
    "    # Iterate through the rows of the matrix starting from the second row\n",
    "    for i in range(1, n):\n",
    "        a = 0  # Initialize a variable to track the index\n",
    "        for j in range(n):  # Iterate through the columns\n",
    "            if i != j and a < j:  # If not on the diagonal and a < j\n",
    "                B[i] += abs(A[i][j]) * B[a]  # Update B[i] using B[a]\n",
    "            elif i != j:  # If not on the diagonal\n",
    "                B[i] += abs(A[i][j])  # Update B[i] directly\n",
    "\n",
    "    # Get the maximum value in the array B\n",
    "    max_x = max(B)\n",
    "    print(\"Maximum of Sanssenfeld:\", max_x)\n",
    "    \n",
    "    # Return whether the maximum value is less than 1\n",
    "    return max_x < 1"
   ]
  },
  {
   "cell_type": "code",
   "execution_count": null,
   "metadata": {},
   "outputs": [],
   "source": [
    "def converge(A):\n",
    "    # Get the number of rows (or columns) of the matrix A\n",
    "    n = np.shape(A)[0]\n",
    "\n",
    "    # Iterate through each row of the matrix\n",
    "    for i in range(n):\n",
    "        row_sum = 0  # Initialize the sum of the row (excluding the diagonal element)\n",
    "        \n",
    "        # Iterate through each column of the matrix\n",
    "        for j in range(n):\n",
    "            if i != j:  # Exclude the diagonal element\n",
    "                row_sum += A[i][j]  # Add the off-diagonal elements to the row sum\n",
    "        \n",
    "        # Check if the absolute value of the diagonal element is less than the row sum\n",
    "        if abs(A[i][i]) < row_sum:\n",
    "            print(\"Row sum:\", row_sum)\n",
    "            print(\"Diagonal element:\", A[i][i])\n",
    "            return False  # Return False if the condition is not satisfied\n",
    "\n",
    "    # Return True if the matrix satisfies the convergence condition\n",
    "    return True"
   ]
  },
  {
   "cell_type": "code",
   "execution_count": null,
   "metadata": {},
   "outputs": [],
   "source": [
    "def jacobi(A, b, x0, tol, N):\n",
    "    # Check if the matrix satisfies the convergence condition\n",
    "    c = converge(A)\n",
    "    if not c:\n",
    "        # If not, check using the Sanssenfeld criterion\n",
    "        c = sanssenfeld(A)\n",
    "        if not c:\n",
    "            return \"The system does not converge.\"\n",
    "\n",
    "    # Get the number of rows (or columns) of the matrix A\n",
    "    n = np.shape(A)[0]\n",
    "    # Initialize the solution vector with zeros\n",
    "    x = np.zeros(n)\n",
    "    # Initialize the iteration counter\n",
    "    it = 0\n",
    "\n",
    "    # Iterative process\n",
    "    while it < N:\n",
    "        it += 1  # Increment the iteration counter\n",
    "\n",
    "        # Jacobi iteration\n",
    "        for i in range(n):\n",
    "            x[i] = b[i]  # Start with the corresponding value from vector b\n",
    "            for j in range(n):\n",
    "                if i != j:  # Exclude the diagonal element\n",
    "                    x[i] -= A[i, j] * x0[j]  # Subtract the product of A[i, j] and the previous solution\n",
    "            x[i] /= A[i, i]  # Divide by the diagonal element\n",
    "\n",
    "        # Check if the tolerance condition is satisfied\n",
    "        if np.linalg.norm(x - x0, np.inf) < tol:\n",
    "            return x  # Return the solution if the tolerance is met\n",
    "\n",
    "        # Prepare for the next iteration\n",
    "        x0 = np.copy(x)\n",
    "\n",
    "    # Return the solution after the maximum number of iterations\n",
    "    return x"
   ]
  }
 ],
 "metadata": {
  "language_info": {
   "name": "python"
  }
 },
 "nbformat": 4,
 "nbformat_minor": 2
}
