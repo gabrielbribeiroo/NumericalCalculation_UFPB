{
 "cells": [
  {
   "cell_type": "markdown",
   "metadata": {},
   "source": [
    "CALCULATION OF INTEGRALS"
   ]
  },
  {
   "cell_type": "markdown",
   "metadata": {},
   "source": [
    "Application Distance Covered by a Player During the Game"
   ]
  },
  {
   "cell_type": "markdown",
   "metadata": {},
   "source": [
    "1. Generating the graph of a player's speed variation"
   ]
  },
  {
   "cell_type": "code",
   "execution_count": null,
   "metadata": {},
   "outputs": [],
   "source": [
    "import numpy as np"
   ]
  },
  {
   "cell_type": "code",
   "execution_count": null,
   "metadata": {},
   "outputs": [],
   "source": [
    "import matplotlib.pyplot as plt"
   ]
  },
  {
   "cell_type": "code",
   "execution_count": null,
   "metadata": {},
   "outputs": [],
   "source": [
    "import time"
   ]
  },
  {
   "cell_type": "code",
   "execution_count": null,
   "metadata": {},
   "outputs": [],
   "source": [
    "import pandas as pd"
   ]
  },
  {
   "cell_type": "code",
   "execution_count": null,
   "metadata": {},
   "outputs": [],
   "source": [
    "from scipy.integrate import trapezoid, simpson"
   ]
  },
  {
   "cell_type": "code",
   "execution_count": null,
   "metadata": {},
   "outputs": [],
   "source": [
    "# Total game time: 90 minutes (5400 seconds) with measurements every 10 seconds\n",
    "total_time = np.arange(0, 5401, 10)\n",
    "\n",
    "# Defining activity states and their probabilities\n",
    "states = ['stopped', 'walking', 'running', 'sprinting']\n",
    "probabilities = [0.1, 0.5, 0.35, 0.05]  # Adjust as desired\n",
    "\n",
    "# Speed ranges (m/s) for each state\n",
    "speed_ranges = {\n",
    "    'stopped': (0, 0.5),\n",
    "    'walking': (1.0, 2.0),\n",
    "    'running': (2.5, 4.0),\n",
    "    'sprinting': (4.5, 7.0)\n",
    "}\n",
    "\n",
    "np.random.seed(42)  # For reproducibility\n",
    "\n",
    "# Simulating speeds according to the state chosen for each moment\n",
    "total_speed = []\n",
    "for _ in total_time:\n",
    "    state = np.random.choice(states, p=probabilities)\n",
    "    v_min, v_max = speed_ranges[state]\n",
    "    speed = np.random.uniform(v_min, v_max)\n",
    "    total_speed.append(speed)\n",
    "total_speed = np.array(total_speed)\n",
    "\n",
    "# Calculating the total distance covered using discrete summation\n",
    "delta_t = 10  # Time interval between measurements (in seconds)\n",
    "exact_distance = np.sum(total_speed * delta_t)  # Sum of individual displacements"
   ]
  }
 ],
 "metadata": {
  "language_info": {
   "name": "python"
  }
 },
 "nbformat": 4,
 "nbformat_minor": 2
}
