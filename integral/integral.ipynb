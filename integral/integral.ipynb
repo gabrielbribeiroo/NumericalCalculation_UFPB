{
 "cells": [
  {
   "cell_type": "markdown",
   "metadata": {},
   "source": [
    "Integral Calculus"
   ]
  },
  {
   "cell_type": "markdown",
   "metadata": {},
   "source": [
    "Importing libraries"
   ]
  },
  {
   "cell_type": "code",
   "execution_count": null,
   "metadata": {},
   "outputs": [],
   "source": [
    "import numpy as np"
   ]
  },
  {
   "cell_type": "code",
   "execution_count": null,
   "metadata": {},
   "outputs": [],
   "source": [
    "import pandas as pd"
   ]
  },
  {
   "cell_type": "code",
   "execution_count": null,
   "metadata": {},
   "outputs": [],
   "source": [
    "import matplotlib.pyplot as plt"
   ]
  },
  {
   "cell_type": "code",
   "execution_count": null,
   "metadata": {},
   "outputs": [],
   "source": [
    "import sympy as sp"
   ]
  },
  {
   "cell_type": "markdown",
   "metadata": {},
   "source": [
    "Trapezoid rule (simple)"
   ]
  },
  {
   "cell_type": "code",
   "execution_count": null,
   "metadata": {},
   "outputs": [],
   "source": [
    "# Define the symbolic variable\n",
    "x = sp.Symbol('x')\n",
    "\n",
    "# Define the symbolic function\n",
    "f_sym = sp.exp(sp.pi * x)\n",
    "\n",
    "# Convert the symbolic function to a numerical NumPy function\n",
    "f_numeric = sp.lambdify(x, f_sym, modules=[\"numpy\"])"
   ]
  },
  {
   "cell_type": "code",
   "execution_count": null,
   "metadata": {},
   "outputs": [],
   "source": [
    "# Define integration interval\n",
    "a, b = 0, 3  # Integration interval\n",
    "\n",
    "# Create points for plotting\n",
    "x_vals = np.linspace(a, b, 100)  # Generate more points to smooth the curve\n",
    "y_vals = f_numeric(x_vals)\n",
    "\n",
    "# Create trapezoid points\n",
    "x_trap = np.array([a, b])\n",
    "y_trap = f_numeric(x_trap)"
   ]
  },
  {
   "cell_type": "code",
   "execution_count": null,
   "metadata": {},
   "outputs": [],
   "source": [
    "# Calculate the area of the trapezoid\n",
    "trap_area = (b - a) * (f_numeric(a) + f_numeric(b)) / 2\n",
    "\n",
    "# Calculate the exact integral symbolically\n",
    "exact_integral = sp.integrate(f_sym, (x, a, b))\n",
    "exact_integral_value = float(exact_integral)"
   ]
  },
  {
   "cell_type": "code",
   "execution_count": null,
   "metadata": {},
   "outputs": [],
   "source": [
    "# Create plot\n",
    "plt.figure(figsize=(8, 5))\n",
    "plt.plot(x_vals, y_vals, label=r\"f(x) = e^(πx)\", color=\"blue\")  # Original function\n",
    "plt.fill_between(x_trap, y_trap, alpha=0.3, color=\"red\", label=f\"Trapezoid Area = {trap_area:.4f}\")  # Trapezoid area\n",
    "plt.scatter(x_trap, y_trap, color=\"black\", zorder=3, label=\"Trapezoid Points\")  # Trapezoid points\n",
    "plt.plot(x_trap, y_trap, color=\"red\", linestyle=\"dashed\", label=\"Trapezoid Rule\")  # Trapezoid line\n",
    "\n",
    "# Plot settings\n",
    "plt.xlabel(\"x\")\n",
    "plt.ylabel(\"f(x)\")\n",
    "plt.title(\"Simple Trapezoid Rule\")\n",
    "plt.legend()\n",
    "plt.grid()\n",
    "plt.show()"
   ]
  },
  {
   "cell_type": "code",
   "execution_count": null,
   "metadata": {},
   "outputs": [],
   "source": [
    "# Calculate the absolute difference between the values\n",
    "absolute_error = abs(exact_integral_value - trap_area)\n",
    "relative_error = absolute_error / exact_integral_value\n",
    "\n",
    "# Create a DataFrame to store the results\n",
    "df_comparison = pd.DataFrame({\n",
    "    \"Values\": [\"Exact Integral\", \"Approximate Integral\", \"Absolute Error\", \"Relative Error\"],\n",
    "    \" \": [exact_integral_value, round(trap_area, 3), round(absolute_error, 3), \"{:.2%}\".format(relative_error)]\n",
    "})\n",
    "\n",
    "# Display the table\n",
    "from IPython.display import display\n",
    "display(df_comparison)"
   ]
  }
 ],
 "metadata": {
  "language_info": {
   "name": "python"
  }
 },
 "nbformat": 4,
 "nbformat_minor": 2
}
