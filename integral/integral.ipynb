{
 "cells": [
  {
   "cell_type": "markdown",
   "metadata": {},
   "source": [
    "Integral Calculus"
   ]
  },
  {
   "cell_type": "markdown",
   "metadata": {},
   "source": [
    "Importing libraries"
   ]
  },
  {
   "cell_type": "code",
   "execution_count": null,
   "metadata": {},
   "outputs": [],
   "source": [
    "import numpy as np"
   ]
  },
  {
   "cell_type": "code",
   "execution_count": null,
   "metadata": {},
   "outputs": [],
   "source": [
    "import pandas as pd"
   ]
  },
  {
   "cell_type": "code",
   "execution_count": null,
   "metadata": {},
   "outputs": [],
   "source": [
    "import matplotlib.pyplot as plt"
   ]
  },
  {
   "cell_type": "code",
   "execution_count": null,
   "metadata": {},
   "outputs": [],
   "source": [
    "import sympy as sp"
   ]
  },
  {
   "cell_type": "code",
   "execution_count": null,
   "metadata": {},
   "outputs": [],
   "source": [
    "import datetime"
   ]
  },
  {
   "cell_type": "markdown",
   "metadata": {},
   "source": [
    "Trapezoid rule (simple)"
   ]
  },
  {
   "cell_type": "code",
   "execution_count": null,
   "metadata": {},
   "outputs": [],
   "source": [
    "def polynomial_fit(x, y, degree=3):\n",
    "    \"\"\" Polynomial fit of a specified degree \"\"\"\n",
    "    # Calculate the coefficients of the polynomial fit\n",
    "    coefficients = np.polyfit(x, y, degree)\n",
    "    return coefficients"
   ]
  },
  {
   "cell_type": "code",
   "execution_count": null,
   "metadata": {},
   "outputs": [],
   "source": [
    "def plot_polynomial_fit(x, y, x_plot, y_plot, title):\n",
    "    # Plot the polynomial fit graph\n",
    "    plt.figure(figsize=(10, 6))\n",
    "    plt.scatter(x, y, color='red', label='Real Points', s=50)  # Scatter plot for real data points\n",
    "    plt.plot(x_plot, y_plot, label='Polynomial Fit - Degree 3', color='blue', linewidth=2)  # Polynomial fit line\n",
    "\n",
    "    # Add title and labels\n",
    "    plt.title(title, fontsize=14)  # Title of the plot\n",
    "    plt.xlabel('Days since 31/03/2020', fontsize=12)  # X-axis label\n",
    "    plt.ylabel('Cases', fontsize=12)  # Y-axis label\n",
    "    plt.legend(fontsize=12)  # Legend for the plot\n",
    "    plt.grid(True, linestyle='--', alpha=0.7)  # Add grid with dashed lines and transparency\n",
    "    plt.xlim([min(x)-2, max(x)+2])  # Adjust the x-axis range\n",
    "    plt.ylim([0, max(y)*1.1])  # Adjust the y-axis scale\n",
    "    plt.show()  # Display the plot"
   ]
  },
  {
   "cell_type": "code",
   "execution_count": null,
   "metadata": {},
   "outputs": [],
   "source": [
    "# Definition of the data\n",
    "dates = [\"31/03/2020\", \"01/04/2020\", \"02/04/2020\", \"03/04/2020\", \"04/04/2020\",\n",
    "         \"06/04/2020\", \"07/04/2020\", \"08/04/2020\", \"14/04/2020\", \"21/04/2020\",\n",
    "         \"28/04/2020\", \"05/05/2020\", \"09/05/2020\", \"16/05/2020\"]\n",
    "\n",
    "y = np.array([17, 20, 28, 30, 34, 36, 41, 55, 136, 263, 633, 1361, 2156, 4063])\n",
    "\n",
    "# Convert dates to numerical values\n",
    "dates = [datetime.datetime.strptime(d, \"%d/%m/%Y\") for d in dates]\n",
    "x = np.array([(d - dates[0]).days for d in dates], dtype=float)  # Ensure x is a NumPy array of floats"
   ]
  },
  {
   "cell_type": "code",
   "execution_count": null,
   "metadata": {},
   "outputs": [],
   "source": [
    "# Polynomial fit (degree 3)\n",
    "coef_polinomio = np.polyfit(x, y, 3)  # Calculate the coefficients of the polynomial fit\n",
    "x_plot = np.linspace(min(x), max(x), 500)  # Generate x values for plotting the polynomial\n",
    "y_plot_poly = np.polyval(coef_polinomio, x_plot)  # Evaluate the polynomial at the generated x values\n",
    "\n",
    "print(f\"Polynomial fit coefficients: {coef_polinomio}\")\n",
    "\n",
    "# Plot the polynomial fit graph\n",
    "plot_polynomial_fit(x, y, x_plot, y_plot_poly, 'Polynomial Fit - Degree 3')"
   ]
  },
  {
   "cell_type": "code",
   "execution_count": null,
   "metadata": {},
   "outputs": [],
   "source": [
    "# Define the symbolic variable\n",
    "x_sym = sp.Symbol('x')\n",
    "\n",
    "# Coefficients of the polynomial\n",
    "coefficients = [0.08429445, -2.56948255, 28.15091149, -23.40472133]\n",
    "\n",
    "# Create the symbolic polynomial function\n",
    "degree = len(coefficients) - 1  # Determine the degree of the polynomial\n",
    "f_sym = sum(coefficients[i] * x_sym**(degree - i) for i in range(len(coefficients)))\n",
    "\n",
    "# Convert the symbolic function to a numerical NumPy function\n",
    "f_numeric = sp.lambdify(x_sym, f_sym, modules=[\"numpy\"])"
   ]
  },
  {
   "cell_type": "code",
   "execution_count": null,
   "metadata": {},
   "outputs": [],
   "source": [
    "# Define the integration interval\n",
    "a, b = float(min(x)), float(max(x))  # Interval adjusted to the available data\n",
    "\n",
    "# Create points for plotting\n",
    "x_vals = np.linspace(a, b, 100)  # Generate more points to smooth the curve\n",
    "y_vals = f_numeric(x_vals)\n",
    "\n",
    "# Create points for the trapezoid\n",
    "x_trap = np.array([a, b])\n",
    "y_trap = f_numeric(x_trap)"
   ]
  },
  {
   "cell_type": "code",
   "execution_count": null,
   "metadata": {},
   "outputs": [],
   "source": [
    "# Calculate the area of the trapezoid\n",
    "trap_area = (b - a) * (f_numeric(a) + f_numeric(b)) / 2\n",
    "\n",
    "# Calculate the exact integral symbolically\n",
    "exact_integral = sp.integrate(f_sym, (x_sym, a, b))\n",
    "exact_integral_value = exact_integral.evalf()  # Evaluate numerically"
   ]
  },
  {
   "cell_type": "code",
   "execution_count": null,
   "metadata": {},
   "outputs": [],
   "source": [
    "# Create plot\n",
    "plt.figure(figsize=(10, 6))\n",
    "plt.plot(x_vals, y_vals, label=\"Polynomial Fit\", color=\"blue\", linewidth=2)  # Fitted function\n",
    "plt.fill_between(x_trap, y_trap, alpha=0.3, color=\"red\", label=f\"Trapezoid Area = {trap_area:.4f}\")  # Trapezoid area\n",
    "plt.scatter(x_trap, y_trap, color=\"black\", zorder=3, label=\"Trapezoid Points\", s=80)  # Trapezoid points\n",
    "plt.plot(x_trap, y_trap, color=\"red\", linestyle=\"dashed\", linewidth=2, label=\"Trapezoid Rule\")  # Trapezoid line\n",
    "\n",
    "# Plot settings\n",
    "plt.xlabel(\"Days since 31/03/2020\", fontsize=12)  # X-axis label\n",
    "plt.ylabel(\"Cases\", fontsize=12)  # Y-axis label\n",
    "plt.title(\"Trapezoid Rule Applied to Polynomial Fit\", fontsize=14)  # Plot title\n",
    "plt.legend(fontsize=12)  # Legend\n",
    "plt.grid(True, linestyle='--', alpha=0.7)  # Grid with dashed lines and transparency\n",
    "plt.show()  # Display the plot"
   ]
  },
  {
   "cell_type": "code",
   "execution_count": null,
   "metadata": {},
   "outputs": [],
   "source": [
    "# Calculate the absolute difference between the values\n",
    "absolute_error = abs(exact_integral_value - trap_area)\n",
    "relative_error = absolute_error / exact_integral_value\n",
    "\n",
    "# Create a DataFrame to store the results\n",
    "df_comparison = pd.DataFrame({\n",
    "    \"Values\": [\"Exact Integral\", \"Approximate Integral\", \"Absolute Error\", \"Relative Error\"],\n",
    "    \" \": [exact_integral_value, round(trap_area, 3), round(absolute_error, 3), \"{:.2%}\".format(relative_error)]\n",
    "})\n",
    "\n",
    "# Display the table\n",
    "from IPython.display import display\n",
    "display(df_comparison)"
   ]
  },
  {
   "cell_type": "markdown",
   "metadata": {},
   "source": [
    "Trapezoid rule (generic)"
   ]
  },
  {
   "cell_type": "code",
   "execution_count": null,
   "metadata": {},
   "outputs": [],
   "source": [
    "# Define the symbolic variable\n",
    "x_sym = sp.Symbol('x')\n",
    "\n",
    "# Coefficients of the polynomial\n",
    "coefficients = [0.08429445, -2.56948255, 28.15091149, -23.40472133]\n",
    "\n",
    "# Create the symbolic polynomial function\n",
    "degree = len(coefficients) - 1  # Determine the degree of the polynomial\n",
    "f_sym = sum(coefficients[i] * x_sym**(degree - i) for i in range(len(coefficients)))\n",
    "\n",
    "# Convert the symbolic function to a numerical NumPy function\n",
    "f_numeric = sp.lambdify(x_sym, f_sym, modules=[\"numpy\"])"
   ]
  },
  {
   "cell_type": "code",
   "execution_count": null,
   "metadata": {},
   "outputs": [],
   "source": [
    "# Define integration interval and number of subdivisions\n",
    "a, b = float(min(x)), float(max(x))  # Interval adjusted to the available data\n",
    "n = 300  # Number of subdivisions\n",
    "\n",
    "# Create points for the generalized trapezoid\n",
    "x_trap = np.linspace(a, b, n+1)\n",
    "y_trap = f_numeric(x_trap)"
   ]
  },
  {
   "cell_type": "code",
   "execution_count": null,
   "metadata": {},
   "outputs": [],
   "source": [
    "# Calculate the area of the generalized trapezoid\n",
    "h = (b - a) / n\n",
    "trap_generalized = (h/2) * (y_trap[0] + 2 * sum(y_trap[1:-1]) + y_trap[-1])"
   ]
  },
  {
   "cell_type": "code",
   "execution_count": null,
   "metadata": {},
   "outputs": [],
   "source": [
    "# Create points for the function curve\n",
    "x_vals = np.linspace(a, b, 100)  # Generate more points to smooth the curve\n",
    "y_vals = f_numeric(x_vals)"
   ]
  },
  {
   "cell_type": "code",
   "execution_count": null,
   "metadata": {},
   "outputs": [],
   "source": [
    "# Create plot\n",
    "plt.figure(figsize=(8, 5))\n",
    "plt.plot(x_vals, y_vals, label=\"function\", color=\"blue\")  # Original function\n",
    "plt.fill_between(x_trap, y_trap, alpha=0.3, color=\"red\", label=f\"Generalized Trapezoid Area = {trap_generalizada:.4f}\")  # Trapezoid area\n",
    "plt.scatter(x_trap, y_trap, color=\"black\", zorder=3, label=\"Trapezoid Points\")  # Trapezoid points\n",
    "plt.plot(x_trap, y_trap, color=\"red\", linestyle=\"dashed\", label=\"Generalized Trapezoid Rule\")  # Trapezoid line\n",
    "\n",
    "# Plot settings\n",
    "plt.xlabel(\"x\")\n",
    "plt.ylabel(\"f(x)\")\n",
    "plt.title(\"Generalized Trapezoid Rule\")\n",
    "plt.legend()\n",
    "plt.grid()\n",
    "plt.show()"
   ]
  },
  {
   "cell_type": "code",
   "execution_count": null,
   "metadata": {},
   "outputs": [],
   "source": [
    "# Calculate the exact integral symbolically\n",
    "exact_integral = sp.integrate(f_sym, (x, a, b))\n",
    "exact_integral_value = float(exact_integral)  # Convert to a real number"
   ]
  },
  {
   "cell_type": "code",
   "execution_count": null,
   "metadata": {},
   "outputs": [],
   "source": [
    "# Calculate the absolute difference between the values\n",
    "absolute_error = abs(exact_integral_value - trap_generalized)\n",
    "relative_error = absolute_error / exact_integral_value"
   ]
  },
  {
   "cell_type": "code",
   "execution_count": null,
   "metadata": {},
   "outputs": [],
   "source": [
    "# Create a DataFrame to store the results\n",
    "df_comparison = pd.DataFrame({\n",
    "    \"Values\": [\"Exact Integral\", \"Approximate Integral\", \"Absolute Error\", \"Relative Error\"],\n",
    "    \" \": [round(exact_integral_value, 3), round(trap_generalized, 3), round(absolute_error, 3), \"{:.2%}\".format(relative_error)]    \n",
    "})\n",
    "\n",
    "# Display the comparison table\n",
    "from IPython.display import display\n",
    "display(df_comparison)"
   ]
  },
  {
   "cell_type": "markdown",
   "metadata": {},
   "source": [
    "Simpson's 1/3 Rule (simple)"
   ]
  },
  {
   "cell_type": "code",
   "execution_count": null,
   "metadata": {},
   "outputs": [],
   "source": [
    "# Define the symbolic variable\n",
    "x = sp.Symbol('x')\n",
    "\n",
    "# Define the symbolic function\n",
    "f_sym = sp.exp(sp.pi * x)\n",
    "\n",
    "# Convert the symbolic function to a numerical NumPy function\n",
    "f_numeric = sp.lambdify(x, f_sym, modules=[\"numpy\"])"
   ]
  },
  {
   "cell_type": "code",
   "execution_count": null,
   "metadata": {},
   "outputs": [],
   "source": [
    "# Define integration interval\n",
    "a, b = 0, 3  # Integration interval\n",
    "m = (a + b) / 2  # Midpoint (Simpson's 1/3 requires 3 points)\n",
    "\n",
    "# Create points for the Simple Simpson's 1/3 Rule\n",
    "x_simpson = np.array([a, m, b])\n",
    "y_simpson = f_numeric(x_simpson)"
   ]
  },
  {
   "cell_type": "code",
   "execution_count": null,
   "metadata": {},
   "outputs": [],
   "source": [
    "# Construct the Lagrange interpolating polynomial\n",
    "p_lagrange = sp.expand(\n",
    "    y_simpson[0] * ((x - m) * (x - b)) / ((a - m) * (a - b)) +\n",
    "    y_simpson[1] * ((x - a) * (x - b)) / ((m - a) * (m - b)) +\n",
    "    y_simpson[2] * ((x - a) * (x - m)) / ((b - a) * (b - m))\n",
    ")\n",
    "\n",
    "# Convert the interpolating polynomial to a numerical function\n",
    "p_lagrange_numeric = sp.lambdify(x, p_lagrange, modules=[\"numpy\"])\n",
    "\n",
    "# Create points for the interpolating polynomial\n",
    "x_interp = np.linspace(a, b, 100)\n",
    "y_interp = p_lagrange_numeric(x_interp)"
   ]
  },
  {
   "cell_type": "code",
   "execution_count": null,
   "metadata": {},
   "outputs": [],
   "source": [
    "# Calculate the area using the Simple Simpson's 1/3 Rule\n",
    "h = (b - a) / 2\n",
    "simpson_13_area = (h / 3) * (y_simpson[0] + 4 * y_simpson[1] + y_simpson[2])"
   ]
  },
  {
   "cell_type": "code",
   "execution_count": null,
   "metadata": {},
   "outputs": [],
   "source": [
    "# Create points for the function curve\n",
    "x_vals = np.linspace(a, b, 100)  # Generate more points to smooth the curve\n",
    "y_vals = f_numeric(x_vals)"
   ]
  },
  {
   "cell_type": "code",
   "execution_count": null,
   "metadata": {},
   "outputs": [],
   "source": [
    "# Create plot\n",
    "plt.figure(figsize=(8, 5))\n",
    "plt.plot(x_vals, y_vals, label=\"f(x) = e^(πx)\", color=\"blue\")  # Original function\n",
    "plt.plot(x_interp, y_interp, label=\"Interpolating Polynomial\", linestyle=\"dashed\", color=\"green\")  # Interpolating polynomial\n",
    "plt.scatter(x_simpson, y_simpson, color=\"black\", zorder=3, label=\"Interpolation Points\")  # Interpolation points\n",
    "\n",
    "# Plot settings\n",
    "plt.xlabel(\"x\")\n",
    "plt.ylabel(\"f(x)\")\n",
    "plt.title(\"Simple Simpson's 1/3 Rule\")\n",
    "plt.legend()\n",
    "plt.grid()\n",
    "plt.show()"
   ]
  },
  {
   "cell_type": "code",
   "execution_count": null,
   "metadata": {},
   "outputs": [],
   "source": [
    "# Calculate the exact integral symbolically\n",
    "exact_integral = sp.integrate(f_sym, (x, a, b))\n",
    "exact_integral_value = float(exact_integral)"
   ]
  },
  {
   "cell_type": "code",
   "execution_count": null,
   "metadata": {},
   "outputs": [],
   "source": [
    "# Calculate the absolute difference between the values\n",
    "absolute_error = abs(exact_integral_value - simpson_13_area)\n",
    "relative_error = absolute_error / exact_integral_value"
   ]
  },
  {
   "cell_type": "code",
   "execution_count": null,
   "metadata": {},
   "outputs": [],
   "source": [
    "# Create a DataFrame to store the results\n",
    "df_comparison = pd.DataFrame({\n",
    "    \"Values\": [\"Exact Integral\", \"Approximate Integral\", \"Absolute Error\", \"Relative Error\"],\n",
    "    \"Result\": [round(exact_integral_value, 3), round(simpson_13_area, 3), round(absolute_error, 3), \"{:.2%}\".format(relative_error)]    \n",
    "})\n",
    "\n",
    "# Display the comparison table\n",
    "from IPython.display import display\n",
    "display(df_comparison)"
   ]
  },
  {
   "cell_type": "markdown",
   "metadata": {},
   "source": [
    "Simpson's 1/3 Rule (generic)"
   ]
  },
  {
   "cell_type": "code",
   "execution_count": null,
   "metadata": {},
   "outputs": [],
   "source": [
    "# Define the symbolic variable\n",
    "x = sp.Symbol('x')\n",
    "\n",
    "# Define the symbolic function\n",
    "f_sym = sp.exp(sp.pi * x)\n",
    "\n",
    "# Convert the symbolic function to a numerical NumPy function\n",
    "f_numeric = sp.lambdify(x, f_sym, modules=[\"numpy\"])"
   ]
  },
  {
   "cell_type": "code",
   "execution_count": null,
   "metadata": {},
   "outputs": [],
   "source": [
    "# Define integration interval and number of subdivisions (n must be even for Simpson's 1/3 Rule)\n",
    "a, b = 0, 3  # Integration interval\n",
    "n = 30  # Number of subdivisions (must be EVEN for the Generalized Simpson's 1/3 Rule)"
   ]
  },
  {
   "cell_type": "code",
   "execution_count": null,
   "metadata": {},
   "outputs": [],
   "source": [
    "# Create points for the Generalized Simpson's 1/3 Rule\n",
    "x_simpson = np.linspace(a, b, n+1)\n",
    "y_simpson = f_numeric(x_simpson)\n",
    "\n",
    "# Calculate the area using the Generalized Simpson's 1/3 Rule\n",
    "h = (b - a) / n\n",
    "simpson_13_area = (h / 3) * (y_simpson[0] + 4 * sum(y_simpson[1:n:2]) + 2 * sum(y_simpson[2:n-1:2]) + y_simpson[-1])"
   ]
  },
  {
   "cell_type": "code",
   "execution_count": null,
   "metadata": {},
   "outputs": [],
   "source": [
    "# Create Lagrange interpolating polynomial for the selected points\n",
    "lagrange_terms = [\n",
    "    y_simpson[i] * np.prod([(x - x_simpson[j]) / (x_simpson[i] - x_simpson[j])\n",
    "                             for j in range(len(x_simpson)) if i != j])\n",
    "    for i in range(len(x_simpson))\n",
    "]\n",
    "p_lagrange = sp.simplify(sum(lagrange_terms))\n",
    "\n",
    "# Convert the interpolating polynomial to a numerical function\n",
    "p_lagrange_numeric = sp.lambdify(x, p_lagrange, modules=[\"numpy\"])"
   ]
  },
  {
   "cell_type": "code",
   "execution_count": null,
   "metadata": {},
   "outputs": [],
   "source": [
    "# Create points for the interpolating polynomial\n",
    "x_interp = np.linspace(a, b, 100)\n",
    "y_interp = p_lagrange_numeric(x_interp)\n",
    "\n",
    "# Create points for the original function curve\n",
    "x_vals = np.linspace(a, b, 100)\n",
    "y_vals = f_numeric(x_vals)"
   ]
  },
  {
   "cell_type": "code",
   "execution_count": null,
   "metadata": {},
   "outputs": [],
   "source": [
    "# Create plot\n",
    "plt.figure(figsize=(8, 5))\n",
    "plt.plot(x_vals, y_vals, label=\"f(x) = e^(πx)\", color=\"blue\")  # Original function\n",
    "plt.plot(x_interp, y_interp, label=\"Interpolating Polynomial\", linestyle=\"dashed\", color=\"green\")  # Interpolating polynomial\n",
    "plt.scatter(x_simpson, y_simpson, color=\"black\", zorder=3, label=\"Interpolation Points\")  # Interpolation points\n",
    "\n",
    "# Plot settings\n",
    "plt.xlabel(\"x\")\n",
    "plt.ylabel(\"f(x)\")\n",
    "plt.title(\"Generalized Simpson's 1/3 Rule\")\n",
    "plt.legend()\n",
    "plt.grid()\n",
    "plt.show()"
   ]
  },
  {
   "cell_type": "code",
   "execution_count": null,
   "metadata": {},
   "outputs": [],
   "source": [
    "# Calculate the exact integral symbolically\n",
    "exact_integral = sp.integrate(f_sym, (x, a, b))\n",
    "exact_integral_value = float(exact_integral)"
   ]
  },
  {
   "cell_type": "code",
   "execution_count": null,
   "metadata": {},
   "outputs": [],
   "source": [
    "# Calculate the absolute difference between the values\n",
    "absolute_error = abs(exact_integral_value - simpson_13_area)\n",
    "relative_error = absolute_error / exact_integral_value"
   ]
  },
  {
   "cell_type": "code",
   "execution_count": null,
   "metadata": {},
   "outputs": [],
   "source": [
    "# Create a DataFrame to store the results\n",
    "df_comparison = pd.DataFrame({\n",
    "    \"Values\": [\"Exact Integral\", \"Approximate Integral\", \"Absolute Error\", \"Relative Error\"],\n",
    "    \"Result\": [round(exact_integral_value, 3), round(simpson_13_area, 3), round(absolute_error, 3), \"{:.2%}\".format(relative_error)]    \n",
    "})\n",
    "\n",
    "# Display the comparison table\n",
    "from IPython.display import display\n",
    "display(df_comparison)"
   ]
  },
  {
   "cell_type": "markdown",
   "metadata": {},
   "source": [
    "Simpson's 3/8 Rule (simple)"
   ]
  },
  {
   "cell_type": "code",
   "execution_count": null,
   "metadata": {},
   "outputs": [],
   "source": [
    "# Define the symbolic variable\n",
    "x = sp.Symbol('x')\n",
    "\n",
    "# Define the symbolic function\n",
    "f_sym = sp.exp(sp.pi * x)\n",
    "\n",
    "# Convert the symbolic function to a numerical NumPy function\n",
    "f_numeric = sp.lambdify(x, f_sym, modules=[\"numpy\"])"
   ]
  },
  {
   "cell_type": "code",
   "execution_count": null,
   "metadata": {},
   "outputs": [],
   "source": [
    "# Define integration interval\n",
    "a, b = 0, 3  # Integration interval\n",
    "h = (b - a) / 3  # Step size for three subintervals"
   ]
  },
  {
   "cell_type": "code",
   "execution_count": null,
   "metadata": {},
   "outputs": [],
   "source": [
    "# Create the three points required for Simpson's 3/8 Rule\n",
    "x_simpson = np.array([a, a + h, a + 2*h, b])\n",
    "y_simpson = f_numeric(x_simpson)\n",
    "\n",
    "# Calculate the area using the Simple Simpson's 3/8 Rule\n",
    "simpson_38_area = (3 * h / 8) * (y_simpson[0] + 3*y_simpson[1] + 3*y_simpson[2] + y_simpson[3])"
   ]
  },
  {
   "cell_type": "code",
   "execution_count": null,
   "metadata": {},
   "outputs": [],
   "source": [
    "# Create Lagrange interpolating polynomial\n",
    "lagrange_terms = [\n",
    "    y_simpson[i] * np.prod([(x - x_simpson[j]) / (x_simpson[i] - x_simpson[j])\n",
    "                             for j in range(len(x_simpson)) if i != j])\n",
    "    for i in range(len(x_simpson))\n",
    "]\n",
    "p_lagrange = sp.simplify(sum(lagrange_terms))\n",
    "\n",
    "# Convert the interpolating polynomial to a numerical function\n",
    "p_lagrange_numeric = sp.lambdify(x, p_lagrange, modules=[\"numpy\"])"
   ]
  },
  {
   "cell_type": "code",
   "execution_count": null,
   "metadata": {},
   "outputs": [],
   "source": [
    "# Create points for the interpolating polynomial\n",
    "x_interp = np.linspace(a, b, 100)\n",
    "y_interp = p_lagrange_numeric(x_interp)\n",
    "\n",
    "# Create points for the original function curve\n",
    "x_vals = np.linspace(a, b, 100)\n",
    "y_vals = f_numeric(x_vals)"
   ]
  },
  {
   "cell_type": "code",
   "execution_count": null,
   "metadata": {},
   "outputs": [],
   "source": [
    "# Create plot\n",
    "plt.figure(figsize=(8, 5))\n",
    "plt.plot(x_vals, y_vals, label=\"f(x) = e^(πx)\", color=\"blue\")  # Original function\n",
    "plt.plot(x_interp, y_interp, label=\"Interpolating Polynomial\", linestyle=\"dashed\", color=\"green\")  # Interpolating polynomial\n",
    "plt.scatter(x_simpson, y_simpson, color=\"black\", zorder=3, label=\"Interpolation Points\")  # Interpolation points\n",
    "\n",
    "# Plot settings\n",
    "plt.xlabel(\"x\")\n",
    "plt.ylabel(\"f(x)\")\n",
    "plt.title(\"Simple Simpson's 3/8 Rule\")\n",
    "plt.legend()\n",
    "plt.grid()\n",
    "plt.show()"
   ]
  },
  {
   "cell_type": "code",
   "execution_count": null,
   "metadata": {},
   "outputs": [],
   "source": [
    "# Calculate the exact integral symbolically\n",
    "exact_integral = sp.integrate(f_sym, (x, a, b))\n",
    "exact_integral_value = float(exact_integral)"
   ]
  },
  {
   "cell_type": "code",
   "execution_count": null,
   "metadata": {},
   "outputs": [],
   "source": [
    "# Calculate the absolute difference between the values\n",
    "absolute_error = abs(exact_integral_value - simpson_38_area)\n",
    "relative_error = absolute_error / exact_integral_value"
   ]
  },
  {
   "cell_type": "code",
   "execution_count": null,
   "metadata": {},
   "outputs": [],
   "source": [
    "# Create a DataFrame to store the results\n",
    "df_comparison = pd.DataFrame({\n",
    "    \"Values\": [\"Exact Integral\", \"Approximate Integral\", \"Absolute Error\", \"Relative Error\"],\n",
    "    \"Result\": [round(exact_integral_value, 3), round(simpson_38_area, 3), round(absolute_error, 3), \"{:.2%}\".format(relative_error)]    \n",
    "})\n",
    "\n",
    "# Display the comparison table\n",
    "from IPython.display import display\n",
    "display(df_comparison)"
   ]
  },
  {
   "cell_type": "markdown",
   "metadata": {},
   "source": [
    "Simpson's 3/8 Rule (generic)"
   ]
  },
  {
   "cell_type": "code",
   "execution_count": null,
   "metadata": {},
   "outputs": [],
   "source": [
    "# Define the symbolic variable\n",
    "x = sp.Symbol('x')\n",
    "\n",
    "# Define the symbolic function\n",
    "f_sym = sp.exp(sp.pi * x)\n",
    "\n",
    "# Convert the symbolic function to a numerical NumPy function\n",
    "f_numeric = sp.lambdify(x, f_sym, modules=[\"numpy\"])"
   ]
  },
  {
   "cell_type": "code",
   "execution_count": null,
   "metadata": {},
   "outputs": [],
   "source": [
    "# Define integration interval and number of subdivisions (n must be a multiple of 3 for Simpson's 3/8 Rule)\n",
    "a, b = 0, 3  # Integration interval\n",
    "n = 12  # Number of subdivisions (multiple of 3)\n",
    "\n",
    "# Create points for the Generalized Simpson's 3/8 Rule\n",
    "x_simpson = np.linspace(a, b, n + 1)\n",
    "y_simpson = f_numeric(x_simpson)"
   ]
  },
  {
   "cell_type": "code",
   "execution_count": null,
   "metadata": {},
   "outputs": [],
   "source": [
    "# Calculate the area using the Generalized Simpson's 3/8 Rule\n",
    "h = (b - a) / n\n",
    "simpson_38_area = 0\n",
    "for i in range(0, n, 3):\n",
    "    simpson_38_area += (3 * h / 8) * (y_simpson[i] + 3*y_simpson[i+1] + 3*y_simpson[i+2] + y_simpson[i+3])\n",
    "\n",
    "# Display the result of the approximate integral\n",
    "print(f\"Approximate Integral (Generalized Simpson's 3/8 Rule): {simpson_38_area:.6f}\")"
   ]
  },
  {
   "cell_type": "code",
   "execution_count": null,
   "metadata": {},
   "outputs": [],
   "source": [
    "# Select some points for the interpolating polynomial (reduces computational load)\n",
    "selected_indices = np.linspace(0, len(x_simpson) - 1, 6, dtype=int)  # Six points\n",
    "x_selected = x_simpson[selected_indices]\n",
    "y_selected = y_simpson[selected_indices]\n",
    "\n",
    "# Create Lagrange interpolating polynomial\n",
    "lagrange_terms = [\n",
    "    y_selected[i] * np.prod([(x - x_selected[j]) / (x_selected[i] - x_selected[j])\n",
    "                             for j in range(len(x_selected)) if i != j])\n",
    "    for i in range(len(x_selected))\n",
    "]\n",
    "p_lagrange = sp.simplify(sum(lagrange_terms))\n",
    "\n",
    "# Convert the interpolating polynomial to a numerical function\n",
    "p_lagrange_numeric = sp.lambdify(x, p_lagrange, modules=[\"numpy\"])\n",
    "\n",
    "# Display the interpolating polynomial\n",
    "print(\"Lagrange Interpolating Polynomial:\")\n",
    "sp.pprint(p_lagrange)"
   ]
  },
  {
   "cell_type": "code",
   "execution_count": null,
   "metadata": {},
   "outputs": [],
   "source": [
    "# Create points for visualization\n",
    "x_interp = np.linspace(a, b, 100)\n",
    "y_interp = p_lagrange_numeric(x_interp)\n",
    "\n",
    "# Create points for the original function\n",
    "x_vals = np.linspace(a, b, 400)\n",
    "y_vals = f_numeric(x_vals)"
   ]
  },
  {
   "cell_type": "code",
   "execution_count": null,
   "metadata": {},
   "outputs": [],
   "source": [
    "# Create plot\n",
    "plt.figure(figsize=(8, 5))\n",
    "plt.plot(x_vals, y_vals, label=\"f(x) = e^(πx)\", color=\"blue\")  # Original function\n",
    "plt.plot(x_interp, y_interp, label=\"Interpolating Polynomial\", linestyle=\"dashed\", color=\"red\")  # Interpolating polynomial\n",
    "plt.scatter(x_selected, y_selected, color=\"black\", zorder=3, label=\"Interpolation Points\")  # Selected points\n",
    "\n",
    "# Plot settings\n",
    "plt.xlabel(\"x\")\n",
    "plt.ylabel(\"f(x)\")\n",
    "plt.title(\"Generalized Simpson's 3/8 Rule\")\n",
    "plt.legend()\n",
    "plt.grid()\n",
    "plt.show()"
   ]
  },
  {
   "cell_type": "code",
   "execution_count": null,
   "metadata": {},
   "outputs": [],
   "source": [
    "# Calculate the exact integral symbolically\n",
    "exact_integral = sp.integrate(f_sym, (x, a, b))\n",
    "exact_integral_value = float(exact_integral)\n",
    "\n",
    "# Display the exact integral value\n",
    "print(f\"Exact Integral: {exact_integral_value:.6f}\")"
   ]
  },
  {
   "cell_type": "code",
   "execution_count": null,
   "metadata": {},
   "outputs": [],
   "source": [
    "# Calculate the absolute difference between the values\n",
    "absolute_error = abs(exact_integral_value - simpson_38_area)\n",
    "relative_error = absolute_error / exact_integral_value\n",
    "\n",
    "# Display the calculated errors\n",
    "print(f\"Absolute Error: {absolute_error:.6f}\")\n",
    "print(f\"Relative Error: {relative_error:.2%}\")"
   ]
  },
  {
   "cell_type": "code",
   "execution_count": null,
   "metadata": {},
   "outputs": [],
   "source": [
    "# Create a DataFrame to store the results\n",
    "df_comparison = pd.DataFrame({\n",
    "    \"Values\": [\"Exact Integral\", \"Approximate Integral\", \"Absolute Error\", \"Relative Error\"],\n",
    "    \"Result\": [round(exact_integral_value, 3), round(simpson_38_area, 3), round(absolute_error, 3), \"{:.2%}\".format(relative_error)]    \n",
    "})\n",
    "\n",
    "# Display the comparison table\n",
    "from IPython.display import display\n",
    "display(df_comparison)"
   ]
  }
 ],
 "metadata": {
  "language_info": {
   "name": "python"
  }
 },
 "nbformat": 4,
 "nbformat_minor": 2
}
