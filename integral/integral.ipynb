{
 "cells": [
  {
   "cell_type": "markdown",
   "metadata": {},
   "source": [
    "Integral Calculus"
   ]
  },
  {
   "cell_type": "markdown",
   "metadata": {},
   "source": [
    "Importing libraries"
   ]
  },
  {
   "cell_type": "code",
   "execution_count": null,
   "metadata": {},
   "outputs": [],
   "source": [
    "import numpy as np"
   ]
  },
  {
   "cell_type": "code",
   "execution_count": null,
   "metadata": {},
   "outputs": [],
   "source": [
    "import pandas as pd"
   ]
  },
  {
   "cell_type": "code",
   "execution_count": null,
   "metadata": {},
   "outputs": [],
   "source": [
    "import matplotlib.pyplot as plt"
   ]
  },
  {
   "cell_type": "code",
   "execution_count": null,
   "metadata": {},
   "outputs": [],
   "source": [
    "import sympy as sp"
   ]
  },
  {
   "cell_type": "markdown",
   "metadata": {},
   "source": [
    "Trapezoid rule (simple)"
   ]
  },
  {
   "cell_type": "code",
   "execution_count": null,
   "metadata": {},
   "outputs": [],
   "source": [
    "# Define the symbolic variable\n",
    "x = sp.Symbol('x')\n",
    "\n",
    "# Define the symbolic function\n",
    "f_sym = sp.exp(sp.pi * x)\n",
    "\n",
    "# Convert the symbolic function to a numerical NumPy function\n",
    "f_numeric = sp.lambdify(x, f_sym, modules=[\"numpy\"])"
   ]
  },
  {
   "cell_type": "code",
   "execution_count": null,
   "metadata": {},
   "outputs": [],
   "source": [
    "# Define integration interval\n",
    "a, b = 0, 3  # Integration interval\n",
    "\n",
    "# Create points for plotting\n",
    "x_vals = np.linspace(a, b, 100)  # Generate more points to smooth the curve\n",
    "y_vals = f_numeric(x_vals)\n",
    "\n",
    "# Create trapezoid points\n",
    "x_trap = np.array([a, b])\n",
    "y_trap = f_numeric(x_trap)"
   ]
  },
  {
   "cell_type": "code",
   "execution_count": null,
   "metadata": {},
   "outputs": [],
   "source": [
    "# Calculate the area of the trapezoid\n",
    "trap_area = (b - a) * (f_numeric(a) + f_numeric(b)) / 2\n",
    "\n",
    "# Calculate the exact integral symbolically\n",
    "exact_integral = sp.integrate(f_sym, (x, a, b))\n",
    "exact_integral_value = float(exact_integral)"
   ]
  },
  {
   "cell_type": "code",
   "execution_count": null,
   "metadata": {},
   "outputs": [],
   "source": [
    "# Create plot\n",
    "plt.figure(figsize=(8, 5))\n",
    "plt.plot(x_vals, y_vals, label=r\"f(x) = e^(πx)\", color=\"blue\")  # Original function\n",
    "plt.fill_between(x_trap, y_trap, alpha=0.3, color=\"red\", label=f\"Trapezoid Area = {trap_area:.4f}\")  # Trapezoid area\n",
    "plt.scatter(x_trap, y_trap, color=\"black\", zorder=3, label=\"Trapezoid Points\")  # Trapezoid points\n",
    "plt.plot(x_trap, y_trap, color=\"red\", linestyle=\"dashed\", label=\"Trapezoid Rule\")  # Trapezoid line\n",
    "\n",
    "# Plot settings\n",
    "plt.xlabel(\"x\")\n",
    "plt.ylabel(\"f(x)\")\n",
    "plt.title(\"Simple Trapezoid Rule\")\n",
    "plt.legend()\n",
    "plt.grid()\n",
    "plt.show()"
   ]
  },
  {
   "cell_type": "code",
   "execution_count": null,
   "metadata": {},
   "outputs": [],
   "source": [
    "# Calculate the absolute difference between the values\n",
    "absolute_error = abs(exact_integral_value - trap_area)\n",
    "relative_error = absolute_error / exact_integral_value\n",
    "\n",
    "# Create a DataFrame to store the results\n",
    "df_comparison = pd.DataFrame({\n",
    "    \"Values\": [\"Exact Integral\", \"Approximate Integral\", \"Absolute Error\", \"Relative Error\"],\n",
    "    \" \": [exact_integral_value, round(trap_area, 3), round(absolute_error, 3), \"{:.2%}\".format(relative_error)]\n",
    "})\n",
    "\n",
    "# Display the table\n",
    "from IPython.display import display\n",
    "display(df_comparison)"
   ]
  },
  {
   "cell_type": "markdown",
   "metadata": {},
   "source": [
    "Trapezoid rule (generic)"
   ]
  },
  {
   "cell_type": "code",
   "execution_count": null,
   "metadata": {},
   "outputs": [],
   "source": [
    "# Define the symbolic variable\n",
    "x = sp.Symbol('x')\n",
    "\n",
    "# Define the symbolic function\n",
    "f_sym = sp.exp(sp.pi * x)\n",
    "\n",
    "# Convert the symbolic function to a numerical NumPy function\n",
    "f_numeric = sp.lambdify(x, f_sym, modules=[\"numpy\"])"
   ]
  },
  {
   "cell_type": "code",
   "execution_count": null,
   "metadata": {},
   "outputs": [],
   "source": [
    "# Define integration interval and number of subdivisions\n",
    "a, b = 0, 3  # Integration interval\n",
    "n = 50  # Number of subdivisions\n",
    "\n",
    "# Create points for the generalized trapezoid\n",
    "x_trap = np.linspace(a, b, n+1)\n",
    "y_trap = f_numeric(x_trap)"
   ]
  },
  {
   "cell_type": "code",
   "execution_count": null,
   "metadata": {},
   "outputs": [],
   "source": [
    "# Calculate the area of the generalized trapezoid\n",
    "h = (b - a) / n\n",
    "trap_generalized = (h/2) * (y_trap[0] + 2 * sum(y_trap[1:-1]) + y_trap[-1])"
   ]
  },
  {
   "cell_type": "code",
   "execution_count": null,
   "metadata": {},
   "outputs": [],
   "source": [
    "# Create points for the function curve\n",
    "x_vals = np.linspace(a, b, 100)  # Generate more points to smooth the curve\n",
    "y_vals = f_numeric(x_vals)"
   ]
  },
  {
   "cell_type": "code",
   "execution_count": null,
   "metadata": {},
   "outputs": [],
   "source": [
    "# Create plot\n",
    "plt.figure(figsize=(8, 5))\n",
    "plt.plot(x_vals, y_vals, label=r\"f(x) = e^(πx)\", color=\"blue\")  # Original function\n",
    "plt.fill_between(x_trap, y_trap, alpha=0.3, color=\"red\", label=f\"Generalized Trapezoid Area = {trap_generalized:.4f}\")  # Trapezoid area\n",
    "plt.scatter(x_trap, y_trap, color=\"black\", zorder=3, label=\"Trapezoid Points\")  # Trapezoid points\n",
    "plt.plot(x_trap, y_trap, color=\"red\", linestyle=\"dashed\", label=\"Generalized Trapezoid Rule\")  # Trapezoid line\n",
    "\n",
    "# Plot settings\n",
    "plt.xlabel(\"x\")\n",
    "plt.ylabel(\"f(x)\")\n",
    "plt.title(\"Generalized Trapezoid Rule\")\n",
    "plt.legend()\n",
    "plt.grid()\n",
    "plt.show()"
   ]
  },
  {
   "cell_type": "code",
   "execution_count": null,
   "metadata": {},
   "outputs": [],
   "source": [
    "# Calculate the exact integral symbolically\n",
    "exact_integral = sp.integrate(f_sym, (x, a, b))\n",
    "exact_integral_value = float(exact_integral)  # Convert to a real number"
   ]
  },
  {
   "cell_type": "code",
   "execution_count": null,
   "metadata": {},
   "outputs": [],
   "source": [
    "# Calculate the absolute difference between the values\n",
    "absolute_error = abs(exact_integral_value - trap_generalized)\n",
    "relative_error = absolute_error / exact_integral_value"
   ]
  },
  {
   "cell_type": "code",
   "execution_count": null,
   "metadata": {},
   "outputs": [],
   "source": [
    "# Create a DataFrame to store the results\n",
    "df_comparison = pd.DataFrame({\n",
    "    \"Values\": [\"Exact Integral\", \"Approximate Integral\", \"Absolute Error\", \"Relative Error\"],\n",
    "    \" \": [round(exact_integral_value, 3), round(trap_generalized, 3), round(absolute_error, 3), \"{:.2%}\".format(relative_error)]    \n",
    "})\n",
    "\n",
    "# Display the comparison table\n",
    "from IPython.display import display\n",
    "display(df_comparison)"
   ]
  },
  {
   "cell_type": "markdown",
   "metadata": {},
   "source": [
    "Simpson's 1/3 Rule (simple)"
   ]
  },
  {
   "cell_type": "code",
   "execution_count": null,
   "metadata": {},
   "outputs": [],
   "source": [
    "# Define the symbolic variable\n",
    "x = sp.Symbol('x')\n",
    "\n",
    "# Define the symbolic function\n",
    "f_sym = sp.exp(sp.pi * x)\n",
    "\n",
    "# Convert the symbolic function to a numerical NumPy function\n",
    "f_numeric = sp.lambdify(x, f_sym, modules=[\"numpy\"])"
   ]
  },
  {
   "cell_type": "code",
   "execution_count": null,
   "metadata": {},
   "outputs": [],
   "source": [
    "# Define integration interval\n",
    "a, b = 0, 3  # Integration interval\n",
    "m = (a + b) / 2  # Midpoint (Simpson's 1/3 requires 3 points)\n",
    "\n",
    "# Create points for the Simple Simpson's 1/3 Rule\n",
    "x_simpson = np.array([a, m, b])\n",
    "y_simpson = f_numeric(x_simpson)"
   ]
  },
  {
   "cell_type": "code",
   "execution_count": null,
   "metadata": {},
   "outputs": [],
   "source": [
    "# Construct the Lagrange interpolating polynomial\n",
    "p_lagrange = sp.expand(\n",
    "    y_simpson[0] * ((x - m) * (x - b)) / ((a - m) * (a - b)) +\n",
    "    y_simpson[1] * ((x - a) * (x - b)) / ((m - a) * (m - b)) +\n",
    "    y_simpson[2] * ((x - a) * (x - m)) / ((b - a) * (b - m))\n",
    ")\n",
    "\n",
    "# Convert the interpolating polynomial to a numerical function\n",
    "p_lagrange_numeric = sp.lambdify(x, p_lagrange, modules=[\"numpy\"])\n",
    "\n",
    "# Create points for the interpolating polynomial\n",
    "x_interp = np.linspace(a, b, 100)\n",
    "y_interp = p_lagrange_numeric(x_interp)"
   ]
  },
  {
   "cell_type": "code",
   "execution_count": null,
   "metadata": {},
   "outputs": [],
   "source": [
    "# Calculate the area using the Simple Simpson's 1/3 Rule\n",
    "h = (b - a) / 2\n",
    "simpson_13_area = (h / 3) * (y_simpson[0] + 4 * y_simpson[1] + y_simpson[2])"
   ]
  },
  {
   "cell_type": "code",
   "execution_count": null,
   "metadata": {},
   "outputs": [],
   "source": [
    "# Create points for the function curve\n",
    "x_vals = np.linspace(a, b, 100)  # Generate more points to smooth the curve\n",
    "y_vals = f_numeric(x_vals)"
   ]
  },
  {
   "cell_type": "code",
   "execution_count": null,
   "metadata": {},
   "outputs": [],
   "source": [
    "# Create plot\n",
    "plt.figure(figsize=(8, 5))\n",
    "plt.plot(x_vals, y_vals, label=\"f(x) = e^(πx)\", color=\"blue\")  # Original function\n",
    "plt.plot(x_interp, y_interp, label=\"Interpolating Polynomial\", linestyle=\"dashed\", color=\"green\")  # Interpolating polynomial\n",
    "plt.scatter(x_simpson, y_simpson, color=\"black\", zorder=3, label=\"Interpolation Points\")  # Interpolation points\n",
    "\n",
    "# Plot settings\n",
    "plt.xlabel(\"x\")\n",
    "plt.ylabel(\"f(x)\")\n",
    "plt.title(\"Simple Simpson's 1/3 Rule\")\n",
    "plt.legend()\n",
    "plt.grid()\n",
    "plt.show()"
   ]
  },
  {
   "cell_type": "code",
   "execution_count": null,
   "metadata": {},
   "outputs": [],
   "source": [
    "# Calculate the exact integral symbolically\n",
    "exact_integral = sp.integrate(f_sym, (x, a, b))\n",
    "exact_integral_value = float(exact_integral)"
   ]
  },
  {
   "cell_type": "code",
   "execution_count": null,
   "metadata": {},
   "outputs": [],
   "source": [
    "# Calculate the absolute difference between the values\n",
    "absolute_error = abs(exact_integral_value - simpson_13_area)\n",
    "relative_error = absolute_error / exact_integral_value"
   ]
  },
  {
   "cell_type": "code",
   "execution_count": null,
   "metadata": {},
   "outputs": [],
   "source": [
    "# Create a DataFrame to store the results\n",
    "df_comparison = pd.DataFrame({\n",
    "    \"Values\": [\"Exact Integral\", \"Approximate Integral\", \"Absolute Error\", \"Relative Error\"],\n",
    "    \"Result\": [round(exact_integral_value, 3), round(simpson_13_area, 3), round(absolute_error, 3), \"{:.2%}\".format(relative_error)]    \n",
    "})\n",
    "\n",
    "# Display the comparison table\n",
    "from IPython.display import display\n",
    "display(df_comparison)"
   ]
  },
  {
   "cell_type": "markdown",
   "metadata": {},
   "source": [
    "Simpson's 1/3 Rule (generic)"
   ]
  },
  {
   "cell_type": "code",
   "execution_count": null,
   "metadata": {},
   "outputs": [],
   "source": [
    "# Define the symbolic variable\n",
    "x = sp.Symbol('x')\n",
    "\n",
    "# Define the symbolic function\n",
    "f_sym = sp.exp(sp.pi * x)\n",
    "\n",
    "# Convert the symbolic function to a numerical NumPy function\n",
    "f_numeric = sp.lambdify(x, f_sym, modules=[\"numpy\"])"
   ]
  },
  {
   "cell_type": "code",
   "execution_count": null,
   "metadata": {},
   "outputs": [],
   "source": [
    "# Define integration interval and number of subdivisions (n must be even for Simpson's 1/3 Rule)\n",
    "a, b = 0, 3  # Integration interval\n",
    "n = 30  # Number of subdivisions (must be EVEN for the Generalized Simpson's 1/3 Rule)"
   ]
  },
  {
   "cell_type": "code",
   "execution_count": null,
   "metadata": {},
   "outputs": [],
   "source": [
    "# Create points for the Generalized Simpson's 1/3 Rule\n",
    "x_simpson = np.linspace(a, b, n+1)\n",
    "y_simpson = f_numeric(x_simpson)\n",
    "\n",
    "# Calculate the area using the Generalized Simpson's 1/3 Rule\n",
    "h = (b - a) / n\n",
    "simpson_13_area = (h / 3) * (y_simpson[0] + 4 * sum(y_simpson[1:n:2]) + 2 * sum(y_simpson[2:n-1:2]) + y_simpson[-1])"
   ]
  },
  {
   "cell_type": "code",
   "execution_count": null,
   "metadata": {},
   "outputs": [],
   "source": [
    "# Create Lagrange interpolating polynomial for the selected points\n",
    "lagrange_terms = [\n",
    "    y_simpson[i] * np.prod([(x - x_simpson[j]) / (x_simpson[i] - x_simpson[j])\n",
    "                             for j in range(len(x_simpson)) if i != j])\n",
    "    for i in range(len(x_simpson))\n",
    "]\n",
    "p_lagrange = sp.simplify(sum(lagrange_terms))\n",
    "\n",
    "# Convert the interpolating polynomial to a numerical function\n",
    "p_lagrange_numeric = sp.lambdify(x, p_lagrange, modules=[\"numpy\"])"
   ]
  },
  {
   "cell_type": "code",
   "execution_count": null,
   "metadata": {},
   "outputs": [],
   "source": [
    "# Create points for the interpolating polynomial\n",
    "x_interp = np.linspace(a, b, 100)\n",
    "y_interp = p_lagrange_numeric(x_interp)\n",
    "\n",
    "# Create points for the original function curve\n",
    "x_vals = np.linspace(a, b, 100)\n",
    "y_vals = f_numeric(x_vals)"
   ]
  },
  {
   "cell_type": "code",
   "execution_count": null,
   "metadata": {},
   "outputs": [],
   "source": [
    "# Create plot\n",
    "plt.figure(figsize=(8, 5))\n",
    "plt.plot(x_vals, y_vals, label=\"f(x) = e^(πx)\", color=\"blue\")  # Original function\n",
    "plt.plot(x_interp, y_interp, label=\"Interpolating Polynomial\", linestyle=\"dashed\", color=\"green\")  # Interpolating polynomial\n",
    "plt.scatter(x_simpson, y_simpson, color=\"black\", zorder=3, label=\"Interpolation Points\")  # Interpolation points\n",
    "\n",
    "# Plot settings\n",
    "plt.xlabel(\"x\")\n",
    "plt.ylabel(\"f(x)\")\n",
    "plt.title(\"Generalized Simpson's 1/3 Rule\")\n",
    "plt.legend()\n",
    "plt.grid()\n",
    "plt.show()"
   ]
  },
  {
   "cell_type": "code",
   "execution_count": null,
   "metadata": {},
   "outputs": [],
   "source": [
    "# Calculate the exact integral symbolically\n",
    "exact_integral = sp.integrate(f_sym, (x, a, b))\n",
    "exact_integral_value = float(exact_integral)"
   ]
  },
  {
   "cell_type": "code",
   "execution_count": null,
   "metadata": {},
   "outputs": [],
   "source": [
    "# Calculate the absolute difference between the values\n",
    "absolute_error = abs(exact_integral_value - simpson_13_area)\n",
    "relative_error = absolute_error / exact_integral_value"
   ]
  },
  {
   "cell_type": "code",
   "execution_count": null,
   "metadata": {},
   "outputs": [],
   "source": [
    "# Create a DataFrame to store the results\n",
    "df_comparison = pd.DataFrame({\n",
    "    \"Values\": [\"Exact Integral\", \"Approximate Integral\", \"Absolute Error\", \"Relative Error\"],\n",
    "    \"Result\": [round(exact_integral_value, 3), round(simpson_13_area, 3), round(absolute_error, 3), \"{:.2%}\".format(relative_error)]    \n",
    "})\n",
    "\n",
    "# Display the comparison table\n",
    "from IPython.display import display\n",
    "display(df_comparison)"
   ]
  }
 ],
 "metadata": {
  "language_info": {
   "name": "python"
  }
 },
 "nbformat": 4,
 "nbformat_minor": 2
}
