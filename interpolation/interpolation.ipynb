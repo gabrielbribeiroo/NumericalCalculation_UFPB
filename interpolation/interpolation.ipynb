{
 "cells": [
  {
   "cell_type": "markdown",
   "metadata": {},
   "source": [
    "Polynomial Interpolation"
   ]
  },
  {
   "cell_type": "code",
   "execution_count": null,
   "metadata": {},
   "outputs": [
    {
     "ename": "",
     "evalue": "",
     "output_type": "error",
     "traceback": [
      "\u001b[1;31mRunning cells with 'Python 3.11.9' requires the ipykernel package.\n",
      "\u001b[1;31mRun the following command to install 'ipykernel' into the Python environment. \n",
      "\u001b[1;31mCommand: 'c:/Users/Dell/AppData/Local/Microsoft/WindowsApps/python3.11.exe -m pip install ipykernel -U --user --force-reinstall'"
     ]
    }
   ],
   "source": [
    "import numpy as np"
   ]
  },
  {
   "cell_type": "code",
   "execution_count": null,
   "metadata": {},
   "outputs": [],
   "source": [
    "import matplotlib.pyplot as plt"
   ]
  },
  {
   "cell_type": "markdown",
   "metadata": {},
   "source": [
    "Lagrange"
   ]
  },
  {
   "cell_type": "code",
   "execution_count": null,
   "metadata": {},
   "outputs": [],
   "source": [
    "# Function to calculate the Lagrange polynomial\n",
    "def interpolation_lagrange(n, x, y, value_x):\n",
    "    result = 0.0  # Initialize the result as 0.0\n",
    "\n",
    "    for i in range(n):\n",
    "        term = y[i]  # Initialize the term as the value y[i]\n",
    "        for j in range(n):\n",
    "            if j != i:\n",
    "                # Calculate the term by multiplying by the Lagrange factor\n",
    "                term *= (value_x - x[j]) / (x[i] - x[j])\n",
    "        result += term  # Add the term to the result\n",
    "\n",
    "    return result  # Return the final result"
   ]
  },
  {
   "cell_type": "code",
   "execution_count": null,
   "metadata": {},
   "outputs": [],
   "source": [
    "# Plot the given points and the interpolation polynomial\n",
    "def plot_interpolation(x, y, value_x, result):\n",
    "    plt.scatter(x, y, color='red', label='Given Points')  # Plot the given points\n",
    "    plt.plot(value_x, result, 'bo', label=f'Interpolated Point ({value_x}, {result:.6f})')  # Plot the interpolated point\n",
    "\n",
    "    # Generate a range of x values for plotting the interpolation polynomial with a margin\n",
    "    margin = 0.1 * (max(x) - min(x))  # Define a margin as 10% of the range of x\n",
    "    x_range = np.linspace(min(x) - margin, max(x) + margin, 500)\n",
    "    y_range = [interpolation_lagrange(len(x), x, y, xi) for xi in x_range]\n",
    "\n",
    "    plt.plot(x_range, y_range, label='Lagrange Polynomial')  # Plot the interpolation polynomial\n",
    "    plt.xlabel('x')  # Label for x-axis\n",
    "    plt.ylabel('y')  # Label for y-axis\n",
    "    plt.legend()  # Show legend\n",
    "    plt.title('Lagrange Interpolation')  # Title of the plot\n",
    "    plt.grid(True)  # Show grid\n",
    "    plt.show()  # Display the plot"
   ]
  },
  {
   "cell_type": "code",
   "execution_count": null,
   "metadata": {},
   "outputs": [],
   "source": [
    "n = int(input('Enter the number of points: '))  # Read the number of points\n",
    "\n",
    "print('Insert points in x y format: ')\n",
    "x = []\n",
    "y = []\n",
    "for i in range(n):\n",
    "    x_i, y_i = map(float, input().split())  # Read the x and y points\n",
    "    x.append(x_i)  # Add x_i to the x list\n",
    "    y.append(y_i)  # Add y_i to the y list\n",
    "\n",
    "value_x = float(input('Enter the value of x for interpolation: '))  # Read the value of x for interpolation\n",
    "\n",
    "result  = interpolation_lagrange(n, x, y, value_x)  # Calculate the interpolated value\n",
    "# Print the interpolated value for the given x\n",
    "print(f'The interpolated value for x = {value_x} is: {result:.6f}')\n",
    "\n",
    "# Call the plot function after calculating the result\n",
    "plot_interpolation(x, y, value_x, result)"
   ]
  },
  {
   "cell_type": "markdown",
   "metadata": {},
   "source": [
    "Newton"
   ]
  },
  {
   "cell_type": "code",
   "execution_count": null,
   "metadata": {},
   "outputs": [],
   "source": [
    "def newton_interpolation(n, x, interpolate_value, matrix):\n",
    "    result = matrix[0][0]  # Initialize the result with the first value of the divided differences table\n",
    "    term = 1  # Initialize the term as 1\n",
    "\n",
    "    for i in range(1, n):\n",
    "        term *= (interpolate_value - x[i - 1])  # Update the term by multiplying with (interpolate_value - x[i-1])\n",
    "        result += (term * matrix[0][i])  # Update the result by adding the term multiplied by the divided difference\n",
    "\n",
    "    return result  # Return the final interpolated result"
   ]
  },
  {
   "cell_type": "code",
   "execution_count": null,
   "metadata": {},
   "outputs": [],
   "source": [
    "def plot_newton_interpolation(x, y, matrix, x_value, interpolated_y):\n",
    "    # Generate a range of x values for plotting the interpolation\n",
    "    x_plot = np.linspace(min(x) - 1, max(x) + 1, 1000)  # Increased resolution and added padding\n",
    "    y_plot = [newton_interpolation(len(x), x, xi, matrix) for xi in x_plot]\n",
    "\n",
    "    # Plot the original data points\n",
    "    plt.scatter(x, y, color='red', label='Data Points')\n",
    "\n",
    "    # Plot the Newton interpolation polynomial\n",
    "    plt.plot(x_plot, y_plot, label='Newton Interpolation Polynomial')\n",
    "\n",
    "    # Plot the interpolated point\n",
    "    plt.scatter(x_value, interpolated_y, color='blue', label='Interpolated Point')\n",
    "\n",
    "    # Add title and labels\n",
    "    plt.title('Newton Interpolation Polynomial')\n",
    "    plt.xlabel('x')\n",
    "    plt.ylabel('y')\n",
    "    plt.legend()\n",
    "    plt.grid(True)\n",
    "\n",
    "    # Adjust the axis limits for better visualization \n",
    "    x_margin = (max(x + [x_value]) - min(x + [x_value])) * 0.1  \n",
    "    y_margin = (max(y + [interpolated_y]) - min(y + [interpolated_y])) * 0.1 \n",
    "    plt.xlim(min(x + [x_value]) - x_margin, max(x + [x_value]) + x_margin)\n",
    "    plt.ylim(min(y + [interpolated_y]) - y_margin, max(y + [interpolated_y]) + y_margin)\n",
    "\n",
    "    plt.show()"
   ]
  },
  {
   "cell_type": "code",
   "execution_count": null,
   "metadata": {},
   "outputs": [],
   "source": [
    "def divided_differences(n, x, y):\n",
    "    matrix = [[0 for _ in range(n)] for _ in range(n)]\n",
    "\n",
    "    # Initialize the first column with y values\n",
    "    for i in range(n):\n",
    "        matrix[i][0] = y[i]\n",
    "\n",
    "    # Calculate orders from 1 to n\n",
    "    for j in range(1, n):\n",
    "        for i in range(n - j):\n",
    "            # Calculate the divided difference using the formula\n",
    "            matrix[i][j] = (matrix[i + 1][j - 1] - matrix[i][j - 1]) / (x[i + j] - x[i])\n",
    "\n",
    "    return matrix"
   ]
  },
  {
   "cell_type": "code",
   "execution_count": null,
   "metadata": {},
   "outputs": [],
   "source": [
    "n = int(input(\"Enter the number of points: \"))  # Read the number of points\n",
    "\n",
    "x = []\n",
    "y = []\n",
    "print(\"Enter the points in the format x y:\")\n",
    "for _ in range(n):\n",
    "    xi, yi = map(float, input().split())  # Read the x and y points\n",
    "    x.append(xi)  # Add xi to the x list\n",
    "    y.append(yi)  # Add yi to the y list\n",
    "\n",
    "x_value = float(input(\"Enter the value of x for interpolation: \"))  # Read the value of x for interpolation\n",
    "\n",
    "matrix = divided_differences(n, x, y)  # Calculate the divided differences table\n",
    "result = newton_interpolation(n, x, x_value, matrix)  # Calculate the interpolated value using Newton's method\n",
    "print(f\"The interpolated value for x = {x_value} : {result}\")  # Print the interpolated value\n",
    "\n",
    "plot_newton_interpolation(x, y, matrix)"
   ]
  },
  {
   "cell_type": "markdown",
   "metadata": {},
   "source": [
    "Least Squares Methods"
   ]
  },
  {
   "cell_type": "code",
   "execution_count": null,
   "metadata": {},
   "outputs": [],
   "source": [
    "# Function to perform linear least squares fitting\n",
    "def mmq_linear(x, y):\n",
    "    n = len(x)\n",
    "    sum_x = np.sum(x)\n",
    "    sum_y = np.sum(y)\n",
    "    sum_xx = np.sum(x * x)\n",
    "    sum_xy = np.sum(x * y)\n",
    "    \n",
    "    denominator = n * sum_xx - sum_x ** 2\n",
    "    a = (sum_y * sum_xx - sum_x * sum_xy) / denominator\n",
    "    b = (n * sum_xy - sum_x * sum_y) / denominator\n",
    "    \n",
    "    return a, b"
   ]
  },
  {
   "cell_type": "code",
   "execution_count": null,
   "metadata": {},
   "outputs": [],
   "source": [
    "# Function to perform quadratic least squares fitting\n",
    "def mmq_quadratic(x, y):\n",
    "    A = np.vstack([x**2, x, np.ones(len(x))]).T\n",
    "    a, b, c = np.linalg.lstsq(A, y, rcond=None)[0]\n",
    "    return a, b, c"
   ]
  },
  {
   "cell_type": "code",
   "execution_count": null,
   "metadata": {},
   "outputs": [],
   "source": [
    "# Function to perform exponential least squares fitting\n",
    "def mmq_exponential(x, y):\n",
    "    y_log = np.log(y)\n",
    "    b, log_a = mmq_linear(x, y_log)\n",
    "    a = np.exp(log_a)\n",
    "    return a, b"
   ]
  },
  {
   "cell_type": "code",
   "execution_count": null,
   "metadata": {},
   "outputs": [],
   "source": [
    "def plot_mmq(x, y, x_plot, y_plot, title):\n",
    "    # Plot the original data points\n",
    "    plt.scatter(x, y, color='red', label='Data Points')\n",
    "\n",
    "    # Plot the least squares line or curve\n",
    "    plt.plot(x_plot, y_plot, label=title)\n",
    "\n",
    "    plt.title(title)\n",
    "    plt.xlabel('x')\n",
    "    plt.ylabel('y')\n",
    "    plt.legend()\n",
    "    plt.grid(True)\n",
    "    plt.show()"
   ]
  },
  {
   "cell_type": "code",
   "execution_count": null,
   "metadata": {},
   "outputs": [],
   "source": [
    "# Get the number of points from the user\n",
    "n = int(input(\"Enter the number of points: \"))\n",
    "\n",
    "x = []\n",
    "y = []\n",
    "print(\"Enter the points in the format x y:\")\n",
    "for _ in range(n):\n",
    "    xi, yi = map(float, input().split())\n",
    "    x.append(xi)\n",
    "    y.append(yi)\n",
    "\n",
    "# Get the type of function to fit from the user\n",
    "print(\"Choose the function type:\")\n",
    "print(\"1. Linear (y = a + bx)\")\n",
    "print(\"2. Quadratic (y = ax^2 + bx + c)\")\n",
    "print(\"3. Exponential (y = a * e^(bx))\")\n",
    "choice = int(input(\"Enter your choice (1/2/3): \"))\n",
    "\n",
    "x = np.array(x)\n",
    "y = np.array(y)\n",
    "\n",
    "# Perform the fitting based on the user's choice\n",
    "if choice == 1:\n",
    "    a, b = mmq_linear(x, y)\n",
    "    x_plot = np.linspace(min(x), max(x), 500)\n",
    "    y_plot = a + b * x_plot\n",
    "    plot_mmq(x, y, x_plot, y_plot, 'Least Squares Line (Linear)')\n",
    "    print(f\"The coefficients are: a = {a}, b = {b}\")\n",
    "elif choice == 2:\n",
    "    a, b, c = mmq_quadratic(x, y)\n",
    "    x_plot = np.linspace(min(x), max(x), 500)\n",
    "    y_plot = a * x_plot**2 + b * x_plot + c\n",
    "    plot_mmq(x, y, x_plot, y_plot, 'Least Squares Curve (Quadratic)')\n",
    "    print(f\"The coefficients are: a = {a}, b = {b}, c = {c}\")\n",
    "elif choice == 3:\n",
    "    a, b = mmq_exponential(x, y)\n",
    "    x_plot = np.linspace(min(x), max(x), 500)\n",
    "    y_plot = a * np.exp(b * x_plot)\n",
    "    plot_mmq(x, y, x_plot, y_plot, 'Least Squares Curve (Exponential)')\n",
    "    print(f\"The coefficients are: a = {a}, b = {b}\")\n",
    "else:\n",
    "    print(\"Invalid choice\")"
   ]
  }
 ],
 "metadata": {
  "kernelspec": {
   "display_name": "Python 3",
   "language": "python",
   "name": "python3"
  },
  "language_info": {
   "name": "python",
   "version": "3.11.9"
  }
 },
 "nbformat": 4,
 "nbformat_minor": 2
}
