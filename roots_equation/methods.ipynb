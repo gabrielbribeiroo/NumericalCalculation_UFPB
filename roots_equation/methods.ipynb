{
 "cells": [
  {
   "cell_type": "markdown",
   "metadata": {},
   "source": [
    "Library import"
   ]
  },
  {
   "cell_type": "code",
   "execution_count": null,
   "metadata": {},
   "outputs": [],
   "source": [
    "# Import the sympy library for symbolic mathematics\n",
    "import sympy as sy"
   ]
  },
  {
   "cell_type": "code",
   "execution_count": null,
   "metadata": {},
   "outputs": [],
   "source": [
    "# Import the NumPy library for numerical operations\n",
    "import numpy as np"
   ]
  },
  {
   "cell_type": "code",
   "execution_count": null,
   "metadata": {},
   "outputs": [],
   "source": [
    "# Import the pandas library for data manipulation and analysis\n",
    "import pandas as pd"
   ]
  },
  {
   "cell_type": "code",
   "execution_count": null,
   "metadata": {},
   "outputs": [],
   "source": [
    "# Import the Plotly Express module for creating plots\n",
    "import plotly.express as px"
   ]
  },
  {
   "cell_type": "markdown",
   "metadata": {},
   "source": [
    "Function"
   ]
  },
  {
   "cell_type": "code",
   "execution_count": null,
   "metadata": {},
   "outputs": [],
   "source": [
    "# Import the symbol 'x' from sympy's abc module\n",
    "from sympy.abc import x"
   ]
  },
  {
   "cell_type": "code",
   "execution_count": null,
   "metadata": {},
   "outputs": [],
   "source": [
    "# Convert the symbolic function fx into a numerical function using lambdify\n",
    "f = sy.lambdify(x, fx, 'numpy')"
   ]
  },
  {
   "cell_type": "code",
   "execution_count": null,
   "metadata": {},
   "outputs": [],
   "source": [
    "# Generate 1000 linearly spaced values between -2\n",
    "x = np.linspace(-2, 2, 1000)"
   ]
  },
  {
   "cell_type": "markdown",
   "metadata": {},
   "source": [
    "Graphic"
   ]
  },
  {
   "cell_type": "code",
   "execution_count": null,
   "metadata": {},
   "outputs": [],
   "source": [
    "# Create a line plot using Plotly Express\n",
    "fig = px.line(\n",
    "    x = x,  # Set the x-axis values\n",
    "    y = f(x),  # Set the y-axis values as the function f(x)\n",
    "    labels = {'y': 'f(x)', 'x': 'x values'},  # Set the labels for the axes\n",
    "    template = 'presentation'  # Use the 'presentation' template for styling\n",
    ")\n",
    "\n",
    "# Display the plot\n",
    "fig.show()"
   ]
  },
  {
   "cell_type": "markdown",
   "metadata": {},
   "source": [
    "Bisection method"
   ]
  },
  {
   "cell_type": "code",
   "execution_count": null,
   "metadata": {},
   "outputs": [],
   "source": [
    "def bissec(a, b, f, epsilon):\n",
    "    # Initialize iteration counter\n",
    "    i = 0\n",
    "    \n",
    "    while(1):\n",
    "        # Calculate the midpoint of the interval\n",
    "        x = (a + b) / 2\n",
    "\n",
    "        # Check which subinterval contains the root and update the interval\n",
    "        if f(a) * f(x) < 0:\n",
    "            b = x\n",
    "        else:\n",
    "            a = x\n",
    "        \n",
    "        # Increment the iteration counter\n",
    "        i += 1\n",
    "        \n",
    "        # Check the stopping criteria\n",
    "        if ((abs(b - a)) < epsilon) or (abs(f(x)) < epsilon):\n",
    "            break\n",
    "\n",
    "    # Return the final approximation and number of iterations\n",
    "    return x, i"
   ]
  },
  {
   "cell_type": "code",
   "execution_count": null,
   "metadata": {},
   "outputs": [],
   "source": [
    "# Define the interval [a, b] for the bisection method\n",
    "a = -0.5\n",
    "b = -1\n",
    "\n",
    "# Define the tolerance for the stopping criterion\n",
    "epsilon = 0.001\n",
    "\n",
    "# Call the bisection method function with the interval, function, and tolerance\n",
    "x, i = bissec(a, b, f, epsilon)\n",
    "\n",
    "# Print the solution and the number of iterations\n",
    "print('Solution: {0:f} \\nIteration: {1:d}'.format(x, i))"
   ]
  },
  {
   "cell_type": "code",
   "execution_count": null,
   "metadata": {},
   "outputs": [],
   "source": [
    "def bissec(a, b, f, epsilon):\n",
    "    # Create a DataFrame to store the iteration details\n",
    "    table = pd.DataFrame(columns=['a', 'b', 'x', 'f(a)', 'f(b)', 'f(x)', '|b-a|'])\n",
    "    \n",
    "    # Initialize iteration counter\n",
    "    i = 0\n",
    "    \n",
    "    while(1):\n",
    "        # Calculate the midpoint of the interval\n",
    "        x = (a + b) / 2\n",
    "\n",
    "        # Check which subinterval contains the root and update the interval\n",
    "        if f(a) * f(x) < 0:\n",
    "            b = x\n",
    "        else:\n",
    "            a = x\n",
    "        \n",
    "        # Store the current iteration details in the DataFrame\n",
    "        table.loc[i + 1] = [a, b, x, f(a), f(b), f(x), abs(b - a)]\n",
    "        \n",
    "        # Increment the iteration counter\n",
    "        i += 1\n",
    "        \n",
    "        # Check the stopping criteria\n",
    "        if ((abs(b - a)) < epsilon) or (abs(f(x)) < epsilon):\n",
    "            break\n",
    "\n",
    "    # Return the final approximation, number of iterations, and the table of iterations\n",
    "    return x, i, table"
   ]
  },
  {
   "cell_type": "code",
   "execution_count": null,
   "metadata": {},
   "outputs": [],
   "source": [
    "# Define the interval [a, b] for the bisection method\n",
    "a = 0\n",
    "b = 2\n",
    "\n",
    "# Define the tolerance for the stopping criterion\n",
    "epsilon = 0.001\n",
    "\n",
    "# Call the bisection method function with the interval, function, and tolerance\n",
    "x, i, table = bissec(a, b, f, epsilon)\n",
    "\n",
    "# Print the solution and the number of iterations\n",
    "print('Solution: {0:f} \\nIteration: {1:d}'.format(x, i))\n",
    "\n",
    "# Display the table of iterations\n",
    "table"
   ]
  },
  {
   "cell_type": "markdown",
   "metadata": {},
   "source": [
    "False position method"
   ]
  },
  {
   "cell_type": "code",
   "execution_count": null,
   "metadata": {},
   "outputs": [],
   "source": [
    "def false_pos(a, b, f, epsilon):\n",
    "    # Initialize iteration counter\n",
    "    i = 0\n",
    "    \n",
    "    while(1):\n",
    "        # Calculate the new approximation using the false position method formula\n",
    "        x = (a * f(b) - b * f(a)) / (f(b) - f(a))\n",
    "\n",
    "        # Check which subinterval contains the root and update the interval\n",
    "        if f(a) * f(x) < 0:\n",
    "            b = x\n",
    "        else:\n",
    "            a = x\n",
    "        \n",
    "        # Increment the iteration counter\n",
    "        i += 1\n",
    "        \n",
    "        # Check the stopping criteria\n",
    "        if ((abs(b - a)) < epsilon) or (abs(f(x)) < epsilon):\n",
    "            break\n",
    "    \n",
    "    # Return the final approximation and number of iterations\n",
    "    return x, i"
   ]
  },
  {
   "cell_type": "code",
   "execution_count": null,
   "metadata": {},
   "outputs": [],
   "source": [
    "# Define the interval [a, b] for the false position method\n",
    "a = 0\n",
    "b = 2\n",
    "\n",
    "# Define the tolerance for the stopping criterion\n",
    "epsilon = 0.001\n",
    "\n",
    "# Call the false position method function with the interval, function, and tolerance\n",
    "x, i = false_pos(a, b, f, epsilon)\n",
    "\n",
    "# Print the solution and the number of iterations\n",
    "print('Solution: {0:f} \\nIteration: {1:d}'.format(x, i))"
   ]
  },
  {
   "cell_type": "code",
   "execution_count": null,
   "metadata": {},
   "outputs": [],
   "source": [
    "def false_pos(a, b, f, epsilon):\n",
    "    # Initialize iteration counter\n",
    "    i = 0\n",
    "    \n",
    "    # Create a DataFrame to store the iteration details\n",
    "    table = pd.DataFrame(columns=['a', 'b', 'x', 'f(a)', 'f(b)', 'f(x)', '|b-a|'])\n",
    "    \n",
    "    while(1):\n",
    "        # Calculate the new approximation using the false position method formula\n",
    "        x = (a * f(b) - b * f(a)) / (f(b) - f(a))\n",
    "\n",
    "        # Check which subinterval contains the root and update the interval\n",
    "        if f(a) * f(x) < 0:\n",
    "            b = x\n",
    "        else:\n",
    "            a = x\n",
    "        \n",
    "        # Store the current iteration details in the DataFrame\n",
    "        table.loc[i + 1] = [a, b, x, f(a), f(b), f(x), abs(b - a)]\n",
    "        \n",
    "        # Increment the iteration counter\n",
    "        i += 1\n",
    "        \n",
    "        # Check the stopping criteria\n",
    "        if ((abs(b - a)) < epsilon) or (abs(f(x)) < epsilon):\n",
    "            break\n",
    "    \n",
    "    # Return the final approximation, number of iterations, and the table of iterations\n",
    "    return x, i, table"
   ]
  },
  {
   "cell_type": "code",
   "execution_count": null,
   "metadata": {},
   "outputs": [],
   "source": [
    "# Define the interval [a, b] for the false position method\n",
    "a = 0\n",
    "b = 2\n",
    "\n",
    "# Define the tolerance for the stopping criterion\n",
    "epsilon = 0.001\n",
    "\n",
    "# Call the false position method function with the interval, function, and tolerance\n",
    "x, i, table = false_pos(a, b, f, epsilon)\n",
    "\n",
    "# Print the solution and the number of iterations\n",
    "print('Solution: {0:f} \\nIteration: {1:d}'.format(x, i))\n",
    "\n",
    "# Display the table of iterations\n",
    "table"
   ]
  },
  {
   "cell_type": "markdown",
   "metadata": {},
   "source": [
    "Newton method"
   ]
  },
  {
   "cell_type": "code",
   "execution_count": null,
   "metadata": {},
   "outputs": [],
   "source": [
    "# Import the matplotlib.pyplot module for plotting\n",
    "import matplotlib.pyplot as plt"
   ]
  },
  {
   "cell_type": "code",
   "execution_count": null,
   "metadata": {},
   "outputs": [],
   "source": [
    "# Import the symbol 'x' from sympy's abc module\n",
    "from sympy.abc import x"
   ]
  },
  {
   "cell_type": "code",
   "execution_count": null,
   "metadata": {},
   "outputs": [],
   "source": [
    "def derivate(f, symbol):\n",
    "    # Define the symbol for differentiation\n",
    "    x = sy.Symbol(symbol)\n",
    "    \n",
    "    # Differentiate the function f with respect to the symbol x\n",
    "    f_l = f.diff(x)\n",
    "    \n",
    "    # Create the Newton-Raphson iteration formula\n",
    "    fi = x - (f / f_l)\n",
    "    \n",
    "    # Convert the symbolic iteration formula to a numerical function\n",
    "    fi = sy.lambdify(x, fi, \"numpy\")\n",
    "    \n",
    "    # Return the numerical function\n",
    "    return fi"
   ]
  },
  {
   "cell_type": "code",
   "execution_count": null,
   "metadata": {},
   "outputs": [],
   "source": [
    "# Differentiate the symbolic function fx with respect to x\n",
    "fi = fx.diff(x)\n",
    "\n",
    "# Display the derivative\n",
    "fi"
   ]
  },
  {
   "cell_type": "code",
   "execution_count": null,
   "metadata": {},
   "outputs": [],
   "source": [
    "# Differentiate the symbolic function fx with respect to x\n",
    "fi = fx.diff(x)\n",
    "\n",
    "# Convert the symbolic derivative into a numerical function using lambdify\n",
    "fi = sy.lambdify(x, fi, 'numpy')"
   ]
  },
  {
   "cell_type": "code",
   "execution_count": null,
   "metadata": {},
   "outputs": [],
   "source": [
    "# Generate 1000 linearly spaced values between -2 and 2\n",
    "x = np.linspace(-2, 2, 1000)"
   ]
  },
  {
   "cell_type": "code",
   "execution_count": null,
   "metadata": {},
   "outputs": [],
   "source": [
    "# Create a figure and axis with specified size\n",
    "fig, ax = plt.subplots(figsize=(15,7))\n",
    "\n",
    "# Plot the function f(x) on the axis\n",
    "ax.plot(x, f(x))\n",
    "\n",
    "# Plot the derivative function fi(x) on the axis\n",
    "ax.plot(x, fi(x))\n",
    "\n",
    "# Remove the right and top spines (borders) of the plot\n",
    "ax.spines['right'].set_color('none')\n",
    "ax.spines['top'].set_color('none')\n",
    "\n",
    "# Move the bottom spine (x-axis) to the y=0 position\n",
    "ax.spines['bottom'].set_position(('data', 0))\n",
    "\n",
    "# Move the left spine (y-axis) to the x=0 position\n",
    "ax.spines['left'].set_position(('data', 0))\n",
    "\n",
    "# Add a grid to the plot\n",
    "ax.grid()\n",
    "\n",
    "# Display the figure\n",
    "fig.show()"
   ]
  },
  {
   "cell_type": "code",
   "execution_count": null,
   "metadata": {},
   "outputs": [],
   "source": [
    "def newton(x, f_s, f, symbol, epsilon):\n",
    "    # Derive the function symbolically and create a lambda function for the iteration\n",
    "    fi = derivate(f_s, symbol)\n",
    "    \n",
    "    # Initialize iteration counter\n",
    "    i = 0\n",
    "    \n",
    "    while (1):\n",
    "        # Calculate the function value at the current approximation\n",
    "        fx = f(x)\n",
    "        \n",
    "        # Calculate the next approximation using the Newton-Raphson formula\n",
    "        aux = fi(x)\n",
    "        \n",
    "        # Increment the iteration counter\n",
    "        i += 1\n",
    "        \n",
    "        # Check the stopping criteria\n",
    "        if abs(fx) < epsilon or abs(aux - x) < epsilon:\n",
    "            break\n",
    "        \n",
    "        # Update the current approximation\n",
    "        x = aux\n",
    "    \n",
    "    # Return the final approximation and number of iterations\n",
    "    return x, i"
   ]
  },
  {
   "cell_type": "code",
   "execution_count": null,
   "metadata": {},
   "outputs": [],
   "source": [
    "# Call the Newton method function with initial guess 1, symbolic function fx, numerical function f, variable 'x', and tolerance epsilon\n",
    "x, i = newton(1, fx, f, 'x', epsilon)\n",
    "\n",
    "# Print the solution and the number of iterations\n",
    "print('Solution: {0:f} \\nIteration: {1:d}'.format(x, i))"
   ]
  },
  {
   "cell_type": "code",
   "execution_count": null,
   "metadata": {},
   "outputs": [],
   "source": [
    "def newton(x, f_s, f, symbol, epsilon):\n",
    "    # Derive the function symbolically and create a lambda function for the iteration\n",
    "    fi = derivate(f_s, symbol)\n",
    "    \n",
    "    # Create a DataFrame to store the iteration details\n",
    "    table = pd.DataFrame(columns=['x', 'f(x)', '|x_k+1-x|'])\n",
    "    \n",
    "    # Initialize iteration counter\n",
    "    i = 0\n",
    "    \n",
    "    while (1):\n",
    "        # Calculate the function value at the current approximation\n",
    "        fx = f(x)\n",
    "        \n",
    "        # Calculate the next approximation using the Newton-Raphson formula\n",
    "        aux = fi(x)\n",
    "        \n",
    "        # Store the current iteration details in the DataFrame\n",
    "        table.loc[i + 1] = [x, f(x), abs(aux - x)]\n",
    "        \n",
    "        # Increment the iteration counter\n",
    "        i += 1\n",
    "        \n",
    "        # Check the stopping criteria\n",
    "        if abs(fx) < epsilon or abs(aux - x) < epsilon:\n",
    "            break\n",
    "        \n",
    "        # Update the current approximation\n",
    "        x = aux\n",
    "    \n",
    "    # Return the final approximation, number of iterations, and the table of iterations\n",
    "    return x, i, table"
   ]
  },
  {
   "cell_type": "code",
   "execution_count": null,
   "metadata": {},
   "outputs": [],
   "source": [
    "# Call the Newton method function with initial guess, function, its symbolic form, variable, and tolerance\n",
    "x, i, table = newton(1, fx, f, 'x', epsilon)\n",
    "\n",
    "# Print the solution and the number of iterations\n",
    "print('Solution: {0:f} \\nIteration: {1:d}'.format(x, i))\n",
    "\n",
    "# Display the table of iterations\n",
    "table"
   ]
  },
  {
   "cell_type": "markdown",
   "metadata": {},
   "source": [
    "Secant method"
   ]
  },
  {
   "cell_type": "code",
   "execution_count": null,
   "metadata": {},
   "outputs": [],
   "source": [
    "def secant(x1, x2, f, epsilon):\n",
    "    # Initialize iteration counter\n",
    "    i = 0\n",
    "    \n",
    "    while(1):\n",
    "        # Calculate the new approximation using the secant method formula\n",
    "        x = x2 - (f(x2) * (x1 - x2)) / (f(x1) - f(x2))\n",
    "        \n",
    "        # Increment the iteration counter\n",
    "        i += 1\n",
    "        \n",
    "        # Check the stopping criterion\n",
    "        if epsilon > abs(f(x)):\n",
    "            break\n",
    "        \n",
    "        # Update the previous two approximations\n",
    "        x1 = x2\n",
    "        x2 = x\n",
    "    \n",
    "    # Return the final approximation and number of iterations\n",
    "    return x, i"
   ]
  },
  {
   "cell_type": "code",
   "execution_count": null,
   "metadata": {},
   "outputs": [],
   "source": [
    "# Define the initial guesses for the secant method\n",
    "a = 1\n",
    "b = 1.5\n",
    "\n",
    "# Call the secant method function with the initial guesses, function, and tolerance\n",
    "x, i = secant(a, b, f, epsilon)\n",
    "\n",
    "# Print the solution and the number of iterations\n",
    "print('Solution: {0:f} \\nIteration: {1:d}'.format(x, i))"
   ]
  },
  {
   "cell_type": "code",
   "execution_count": null,
   "metadata": {},
   "outputs": [],
   "source": [
    "def secant(x1, x2, f, epsilon):\n",
    "    # Initialize iteration counter\n",
    "    i = 0\n",
    "    \n",
    "    # Create a DataFrame to store the iteration details\n",
    "    table = pd.DataFrame(columns=['a', 'b', 'x', 'f(a)', 'f(b)', 'f(x)', '|b-a|'])\n",
    "    \n",
    "    while(1):\n",
    "        # Calculate the new approximation using the secant method formula\n",
    "        x = x2 - (f(x2) * (x1 - x2)) / (f(x1) - f(x2))\n",
    "        \n",
    "        # Store the current iteration details in the DataFrame\n",
    "        table.loc[i + 1] = [x1, x2, x, f(x1), f(x2), f(x), abs(x2 - x1)]\n",
    "        \n",
    "        # Increment the iteration counter\n",
    "        i += 1\n",
    "        \n",
    "        # Check the stopping criterion\n",
    "        if epsilon > abs(f(x)):\n",
    "            break\n",
    "        \n",
    "        # Update the previous two approximations\n",
    "        x1 = x2\n",
    "        x2 = x\n",
    "    \n",
    "    # Return the final approximation, number of iterations, and the table of iterations\n",
    "    return x, i, table"
   ]
  },
  {
   "cell_type": "code",
   "execution_count": null,
   "metadata": {},
   "outputs": [],
   "source": [
    "# Define the initial guesses for the secant method\n",
    "a = 1\n",
    "b = 1.5\n",
    "\n",
    "# Call the secant method function with the initial guesses, function, and tolerance\n",
    "x, i, table = secant(a, b, f, epsilon)\n",
    "\n",
    "# Print the solution and the number of iterations\n",
    "print('Solution: {0:f} \\nIteration: {1:d}'.format(x, i))\n",
    "\n",
    "# Display the table of iterations\n",
    "table"
   ]
  }
 ],
 "metadata": {
  "kernelspec": {
   "display_name": "Python 3",
   "language": "python",
   "name": "python3"
  },
  "language_info": {
   "name": "python",
   "version": "3.11.9"
  }
 },
 "nbformat": 4,
 "nbformat_minor": 2
}
