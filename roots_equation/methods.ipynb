{
 "cells": [
  {
   "cell_type": "markdown",
   "metadata": {},
   "source": [
    "Library import"
   ]
  },
  {
   "cell_type": "code",
   "execution_count": null,
   "metadata": {},
   "outputs": [],
   "source": [
    "import sympy as sy"
   ]
  },
  {
   "cell_type": "code",
   "execution_count": null,
   "metadata": {},
   "outputs": [],
   "source": [
    "import numpy as np"
   ]
  },
  {
   "cell_type": "code",
   "execution_count": null,
   "metadata": {},
   "outputs": [],
   "source": [
    "import pandas as pd"
   ]
  },
  {
   "cell_type": "code",
   "execution_count": null,
   "metadata": {},
   "outputs": [],
   "source": [
    "import plotly.express as px"
   ]
  },
  {
   "cell_type": "markdown",
   "metadata": {},
   "source": [
    "Function"
   ]
  },
  {
   "cell_type": "code",
   "execution_count": null,
   "metadata": {},
   "outputs": [],
   "source": [
    "from sympy.abc import x"
   ]
  },
  {
   "cell_type": "code",
   "execution_count": null,
   "metadata": {},
   "outputs": [],
   "source": [
    "f=sy.lambdify(x,fx,'numpy')"
   ]
  },
  {
   "cell_type": "code",
   "execution_count": null,
   "metadata": {},
   "outputs": [],
   "source": [
    "x=np.linspace(-2,2,1000)"
   ]
  },
  {
   "cell_type": "markdown",
   "metadata": {},
   "source": [
    "Graphic"
   ]
  },
  {
   "cell_type": "code",
   "execution_count": null,
   "metadata": {},
   "outputs": [],
   "source": [
    "fig = px.line (x = x,\n",
    "               y = f(x),\n",
    "               labels = {'y':'f(x)','x':'Valores de x'},\n",
    "               template = 'presentation')\n",
    "fig.show()"
   ]
  },
  {
   "cell_type": "markdown",
   "metadata": {},
   "source": [
    "Bisection method"
   ]
  },
  {
   "cell_type": "code",
   "execution_count": null,
   "metadata": {},
   "outputs": [],
   "source": [
    "def bissec(a,b,f,epsilon):\n",
    "    i=0\n",
    "    while(1):\n",
    "        x= (a+b) / 2\n",
    "\n",
    "        if f(a) * f(x) < 0:\n",
    "            b = x\n",
    "        else:\n",
    "            a = x\n",
    "        i=i+1\n",
    "        if  ((abs(b-a)) < epsilon) or (abs(f(x)) < epsilon):\n",
    "                break\n",
    "\n",
    "    return x,i"
   ]
  },
  {
   "cell_type": "code",
   "execution_count": null,
   "metadata": {},
   "outputs": [],
   "source": [
    "a = -0.5\n",
    "b = -1\n",
    "epsilon=0.001\n",
    "x,i=bissec(a,b,f,epsilon)\n",
    "print('Solução: {0:f} \\nIterações: {1:d}'.format(x,i))"
   ]
  },
  {
   "cell_type": "code",
   "execution_count": null,
   "metadata": {},
   "outputs": [],
   "source": [
    "def bissec(a,b,f,epsilon):\n",
    "    table = pd.DataFrame(columns=['a','b','x','f(a)','f(b)','f(x)','|b-a|'])\n",
    "    i=0\n",
    "    while(1):\n",
    "        x= (a+b) / 2\n",
    "\n",
    "        if f(a) * f(x) < 0:\n",
    "            b = x\n",
    "        else:\n",
    "            a = x\n",
    "        table.loc[i+1]=[a,b,x,f(a),f(b),f(x),abs(b-a)]\n",
    "        i=i+1\n",
    "        if  ((abs(b-a)) < epsilon) or (abs(f(x)) < epsilon):\n",
    "                break\n",
    "\n",
    "    return x,i,table"
   ]
  },
  {
   "cell_type": "code",
   "execution_count": null,
   "metadata": {},
   "outputs": [],
   "source": [
    "a = 0\n",
    "b = 2\n",
    "epsilon=0.001\n",
    "x,i,table=bissec(a,b,f,epsilon)\n",
    "print('Solução: {0:f} \\nIterações: {1:d}'.format(x,i))\n",
    "table"
   ]
  }
 ],
 "metadata": {
  "language_info": {
   "name": "python"
  }
 },
 "nbformat": 4,
 "nbformat_minor": 2
}
