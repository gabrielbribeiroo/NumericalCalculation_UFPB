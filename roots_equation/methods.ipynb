{
 "cells": [
  {
   "cell_type": "markdown",
   "metadata": {},
   "source": [
    "Library import"
   ]
  },
  {
   "cell_type": "code",
   "execution_count": null,
   "metadata": {},
   "outputs": [],
   "source": [
    "import sympy as sy"
   ]
  },
  {
   "cell_type": "code",
   "execution_count": null,
   "metadata": {},
   "outputs": [],
   "source": [
    "import numpy as np"
   ]
  },
  {
   "cell_type": "code",
   "execution_count": null,
   "metadata": {},
   "outputs": [],
   "source": [
    "import pandas as pd"
   ]
  },
  {
   "cell_type": "code",
   "execution_count": null,
   "metadata": {},
   "outputs": [],
   "source": [
    "import plotly.express as px"
   ]
  },
  {
   "cell_type": "markdown",
   "metadata": {},
   "source": [
    "Function"
   ]
  },
  {
   "cell_type": "code",
   "execution_count": null,
   "metadata": {},
   "outputs": [],
   "source": [
    "from sympy.abc import x"
   ]
  },
  {
   "cell_type": "code",
   "execution_count": null,
   "metadata": {},
   "outputs": [],
   "source": [
    "f=sy.lambdify(x,fx,'numpy')"
   ]
  },
  {
   "cell_type": "code",
   "execution_count": null,
   "metadata": {},
   "outputs": [],
   "source": [
    "x=np.linspace(-2,2,1000)"
   ]
  },
  {
   "cell_type": "markdown",
   "metadata": {},
   "source": [
    "Graphic"
   ]
  },
  {
   "cell_type": "code",
   "execution_count": null,
   "metadata": {},
   "outputs": [],
   "source": [
    "fig = px.line (x = x,\n",
    "               y = f(x),\n",
    "               labels = {'y':'f(x)','x':'Valores de x'},\n",
    "               template = 'presentation')\n",
    "fig.show()"
   ]
  },
  {
   "cell_type": "markdown",
   "metadata": {},
   "source": [
    "Bisection method"
   ]
  },
  {
   "cell_type": "code",
   "execution_count": null,
   "metadata": {},
   "outputs": [],
   "source": [
    "def bissec(a,b,f,epsilon):\n",
    "    i=0\n",
    "    while(1):\n",
    "        x= (a+b) / 2\n",
    "\n",
    "        if f(a) * f(x) < 0:\n",
    "            b = x\n",
    "        else:\n",
    "            a = x\n",
    "        i=i+1\n",
    "        if  ((abs(b-a)) < epsilon) or (abs(f(x)) < epsilon):\n",
    "                break\n",
    "\n",
    "    return x,i"
   ]
  },
  {
   "cell_type": "code",
   "execution_count": null,
   "metadata": {},
   "outputs": [],
   "source": [
    "a = -0.5\n",
    "b = -1\n",
    "epsilon=0.001\n",
    "x,i=bissec(a,b,f,epsilon)\n",
    "print('Solução: {0:f} \\nIterações: {1:d}'.format(x,i))"
   ]
  },
  {
   "cell_type": "code",
   "execution_count": null,
   "metadata": {},
   "outputs": [],
   "source": [
    "def bissec(a,b,f,epsilon):\n",
    "    table = pd.DataFrame(columns=['a','b','x','f(a)','f(b)','f(x)','|b-a|'])\n",
    "    i=0\n",
    "    while(1):\n",
    "        x= (a+b) / 2\n",
    "\n",
    "        if f(a) * f(x) < 0:\n",
    "            b = x\n",
    "        else:\n",
    "            a = x\n",
    "        table.loc[i+1]=[a,b,x,f(a),f(b),f(x),abs(b-a)]\n",
    "        i=i+1\n",
    "        if  ((abs(b-a)) < epsilon) or (abs(f(x)) < epsilon):\n",
    "                break\n",
    "\n",
    "    return x,i,table"
   ]
  },
  {
   "cell_type": "code",
   "execution_count": null,
   "metadata": {},
   "outputs": [],
   "source": [
    "a = 0\n",
    "b = 2\n",
    "epsilon=0.001\n",
    "x,i,table=bissec(a,b,f,epsilon)\n",
    "print('Solução: {0:f} \\nIterações: {1:d}'.format(x,i))\n",
    "table"
   ]
  },
  {
   "cell_type": "markdown",
   "metadata": {},
   "source": [
    "False position method"
   ]
  },
  {
   "cell_type": "code",
   "execution_count": null,
   "metadata": {},
   "outputs": [],
   "source": [
    "def false_pos(a,b,f,epsilon):\n",
    "    i=0\n",
    "    while(1):\n",
    "        x=(a*f(b)-b*f(a)) /(f(b)-f(a))\n",
    "\n",
    "        if f(a) * f(x) < 0:\n",
    "            b = x\n",
    "        else:\n",
    "            a = x\n",
    "        i+=1\n",
    "        if  ((abs(b-a)) < epsilon) or (abs(f(x)) < epsilon):\n",
    "            break\n",
    "    return x,i"
   ]
  },
  {
   "cell_type": "code",
   "execution_count": null,
   "metadata": {},
   "outputs": [],
   "source": [
    "a = 0\n",
    "b = 2\n",
    "epsilon=0.001\n",
    "x,i=false_pos(a,b,f,epsilon)\n",
    "print('Solução: {0:f} \\nIterações: {1:d}'.format(x,i))"
   ]
  },
  {
   "cell_type": "code",
   "execution_count": null,
   "metadata": {},
   "outputs": [],
   "source": [
    "def false_pos(a,b,f,epsilon):\n",
    "    i=0\n",
    "    table = pd.DataFrame(columns=['a','b','x','f(a)','f(b)','f(x)','|b-a|'])\n",
    "    while(1):\n",
    "        x=(a*f(b)-b*f(a)) /(f(b)-f(a))\n",
    "\n",
    "        if f(a) * f(x) < 0:\n",
    "            b = x\n",
    "        else:\n",
    "            a = x\n",
    "        table.loc[i+1]=[a,b,x,f(a),f(b),f(x),abs(b-a)]\n",
    "        i+=1\n",
    "        if  ((abs(b-a)) < epsilon) or (abs(f(x)) < epsilon):\n",
    "            break\n",
    "    return x,i,table"
   ]
  },
  {
   "cell_type": "code",
   "execution_count": null,
   "metadata": {},
   "outputs": [],
   "source": [
    "a = 0\n",
    "b = 2\n",
    "epsilon=0.001\n",
    "x,i,table=false_pos(a,b,f,epsilon)\n",
    "print('Solução: {0:f} \\nIterações: {1:d}'.format(x,i))\n",
    "table"
   ]
  },
  {
   "cell_type": "markdown",
   "metadata": {},
   "source": [
    "Newton method"
   ]
  },
  {
   "cell_type": "code",
   "execution_count": null,
   "metadata": {},
   "outputs": [],
   "source": [
    "import matplotlib.pyplot as plt"
   ]
  },
  {
   "cell_type": "code",
   "execution_count": null,
   "metadata": {},
   "outputs": [],
   "source": [
    "from sympy.abc import x"
   ]
  },
  {
   "cell_type": "code",
   "execution_count": null,
   "metadata": {},
   "outputs": [],
   "source": [
    "def derivate (f,symbol):\n",
    "    x=sy.Symbol(symbol)\n",
    "    f_l = f.diff(x)\n",
    "    fi = x - (f/f_l)\n",
    "    fi = sy.lambdify(x,fi,\"numpy\")\n",
    "    return fi"
   ]
  },
  {
   "cell_type": "code",
   "execution_count": null,
   "metadata": {},
   "outputs": [],
   "source": [
    "fi=fx.diff(x);fi"
   ]
  },
  {
   "cell_type": "code",
   "execution_count": null,
   "metadata": {},
   "outputs": [],
   "source": [
    "fi=fx.diff(x)\n",
    "\n",
    "fi=sy.lambdify(x,fi,'numpy')"
   ]
  },
  {
   "cell_type": "code",
   "execution_count": null,
   "metadata": {},
   "outputs": [],
   "source": [
    "x=np.linspace(-2,2,1000)"
   ]
  },
  {
   "cell_type": "code",
   "execution_count": null,
   "metadata": {},
   "outputs": [],
   "source": [
    "fig,ax=plt.subplots(figsize=(15,7))\n",
    "ax.plot(x,f(x))\n",
    "ax.plot(x,fi(x))\n",
    "ax.spines['right'].set_color('none')\n",
    "ax.spines['top'].set_color('none')\n",
    "ax.spines['bottom'].set_position(('data',0)) # Desloca o eixo x para 0\n",
    "ax.spines['left'].set_position(('data',0)) # Desloca o eixo y para 0\n",
    "ax.grid()\n",
    "fig.show()"
   ]
  },
  {
   "cell_type": "code",
   "execution_count": null,
   "metadata": {},
   "outputs": [],
   "source": [
    "def newton(x,f_s,f,symbol,epsilon):\n",
    "    fi=derivate(f_s,symbol)\n",
    "    i=0\n",
    "    while (1):\n",
    "        fx=f(x)\n",
    "        aux=fi(x)\n",
    "        i+=1\n",
    "        if abs(fx)< epsilon   or abs(aux-x)<epsilon:\n",
    "            break\n",
    "        x=aux\n",
    "\n",
    "    return x,i"
   ]
  },
  {
   "cell_type": "code",
   "execution_count": null,
   "metadata": {},
   "outputs": [],
   "source": [
    "x,i=newton(1,fx,f,'x',epsilon)\n",
    "print('Solução: {0:f} \\nIterações: {1:d}'.format(x,i))"
   ]
  },
  {
   "cell_type": "code",
   "execution_count": null,
   "metadata": {},
   "outputs": [],
   "source": [
    "def newton(x,f_s,f,symbol,epsilon):\n",
    "    fi=derivate(f_s,symbol)\n",
    "    table = pd.DataFrame(columns=['x','f(x)','|x_k+1-x|'])\n",
    "    i=0\n",
    "    while (1):\n",
    "        fx=f(x)\n",
    "        aux=fi(x)\n",
    "\n",
    "        table.loc[i+1]=[x,f(x),abs(aux-x)]\n",
    "        i+=1\n",
    "\n",
    "        if abs(fx)< epsilon   or abs(aux-x)<epsilon:\n",
    "            break\n",
    "        x=aux\n",
    "\n",
    "    return x,i,table"
   ]
  },
  {
   "cell_type": "code",
   "execution_count": null,
   "metadata": {},
   "outputs": [],
   "source": [
    "x,i,table=newton(1,fx,f,'x',epsilon)\n",
    "print('Solução: {0:f} \\nIterações: {1:d}'.format(x,i))\n",
    "table"
   ]
  }
 ],
 "metadata": {
  "language_info": {
   "name": "python"
  }
 },
 "nbformat": 4,
 "nbformat_minor": 2
}
